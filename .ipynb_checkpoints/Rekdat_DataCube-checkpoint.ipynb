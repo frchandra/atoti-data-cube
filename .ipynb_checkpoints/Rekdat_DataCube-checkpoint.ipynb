{
 "cells": [
  {
   "cell_type": "code",
   "execution_count": 1,
   "id": "799d6968-fe17-4744-bfa1-741707e9ce9b",
   "metadata": {
    "tags": []
   },
   "outputs": [
    {
     "name": "stdout",
     "output_type": "stream",
     "text": [
      "Welcome to atoti 0.7.1!\n",
      "\n",
      "By using this community edition, you agree with the license available at https://docs.atoti.io/latest/eula.html.\n",
      "Browse the official documentation at https://docs.atoti.io.\n",
      "Join the community at https://www.atoti.io/register.\n",
      "\n",
      "atoti collects telemetry data, which is used to help understand how to improve the product.\n",
      "If you don't wish to send usage data, set the ATOTI_DISABLE_TELEMETRY environment variable to True.\n",
      "\n",
      "You can hide this message by setting the ATOTI_HIDE_EULA_MESSAGE environment variable to True.\n"
     ]
    }
   ],
   "source": [
    "import numpy as np\n",
    "import pandas as pd\n",
    "import atoti as tt"
   ]
  },
  {
   "cell_type": "markdown",
   "id": "a4a4dd2a-42e1-4d32-9269-56d9e1393b85",
   "metadata": {
    "jp-MarkdownHeadingCollapsed": true,
    "tags": []
   },
   "source": [
    "## Import dan Cleaning"
   ]
  },
  {
   "cell_type": "code",
   "execution_count": 2,
   "id": "a74f2203-2ac2-4937-a2c6-8c9528fdfef6",
   "metadata": {},
   "outputs": [],
   "source": [
    "assessments = pd.read_csv('assessments.csv')\n",
    "courses = pd.read_csv('courses.csv')\n",
    "studentAssessment = pd.read_csv('studentAssessment.csv')\n",
    "studentInfo = pd.read_csv('studentInfo.csv')\n",
    "studentRegistration = pd.read_csv('studentRegistration.csv')\n",
    "studentVle =pd.read_csv('studentVle.csv',)\n",
    "vle = pd.read_csv('vle.csv')"
   ]
  },
  {
   "cell_type": "markdown",
   "id": "aa38485c-ddbe-4ad3-94a5-c0538b4327a9",
   "metadata": {
    "jp-MarkdownHeadingCollapsed": true,
    "tags": []
   },
   "source": [
    "### Mengubah id menjadi string agar tidak di sum"
   ]
  },
  {
   "cell_type": "code",
   "execution_count": 3,
   "id": "db481158-d974-4ac5-aad9-9b522faeff55",
   "metadata": {
    "tags": []
   },
   "outputs": [],
   "source": [
    "##### vle #####\n",
    "vle['id_site'] = vle['id_site'].astype(\"string\")\n",
    "vle = vle.drop(['week_from','week_to'],axis=1)"
   ]
  },
  {
   "cell_type": "code",
   "execution_count": 4,
   "id": "ac38f14c-9b72-449e-bf69-331096679759",
   "metadata": {
    "tags": []
   },
   "outputs": [
    {
     "name": "stdout",
     "output_type": "stream",
     "text": [
      "<class 'pandas.core.frame.DataFrame'>\n",
      "RangeIndex: 6364 entries, 0 to 6363\n",
      "Data columns (total 4 columns):\n",
      " #   Column             Non-Null Count  Dtype \n",
      "---  ------             --------------  ----- \n",
      " 0   id_site            6364 non-null   string\n",
      " 1   code_module        6364 non-null   object\n",
      " 2   code_presentation  6364 non-null   object\n",
      " 3   activity_type      6364 non-null   object\n",
      "dtypes: object(3), string(1)\n",
      "memory usage: 199.0+ KB\n"
     ]
    }
   ],
   "source": [
    "vle.info()"
   ]
  },
  {
   "cell_type": "code",
   "execution_count": 5,
   "id": "6dbe2fc3-18a3-4645-af66-6dac67842eaa",
   "metadata": {
    "tags": []
   },
   "outputs": [],
   "source": [
    "##### studentVle #####\n",
    "studentVle['id_site'] = studentVle['id_site'].astype(\"string\")\n",
    "studentVle['id_student'] = studentVle['id_student'].astype(\"string\")"
   ]
  },
  {
   "cell_type": "code",
   "execution_count": 6,
   "id": "9a380edc-1fdb-410c-b6ab-22e4e6ae7cb8",
   "metadata": {
    "tags": []
   },
   "outputs": [
    {
     "name": "stdout",
     "output_type": "stream",
     "text": [
      "<class 'pandas.core.frame.DataFrame'>\n",
      "RangeIndex: 10655280 entries, 0 to 10655279\n",
      "Data columns (total 6 columns):\n",
      " #   Column             Dtype \n",
      "---  ------             ----- \n",
      " 0   code_module        object\n",
      " 1   code_presentation  object\n",
      " 2   id_student         string\n",
      " 3   id_site            string\n",
      " 4   date               int64 \n",
      " 5   sum_click          int64 \n",
      "dtypes: int64(2), object(2), string(2)\n",
      "memory usage: 487.8+ MB\n"
     ]
    }
   ],
   "source": [
    "studentVle.info()"
   ]
  },
  {
   "cell_type": "code",
   "execution_count": 7,
   "id": "73cd3ab6-6c07-4c45-bf70-edb4bee8515e",
   "metadata": {
    "tags": []
   },
   "outputs": [],
   "source": [
    "##### studentInfo ######\n",
    "studentInfo['id_student'] = studentInfo['id_student'].astype(\"string\")"
   ]
  },
  {
   "cell_type": "code",
   "execution_count": 8,
   "id": "487a4b8e-e9af-4a6f-a934-5ffc8d24a3a3",
   "metadata": {
    "tags": []
   },
   "outputs": [
    {
     "name": "stdout",
     "output_type": "stream",
     "text": [
      "<class 'pandas.core.frame.DataFrame'>\n",
      "RangeIndex: 32593 entries, 0 to 32592\n",
      "Data columns (total 12 columns):\n",
      " #   Column                Non-Null Count  Dtype \n",
      "---  ------                --------------  ----- \n",
      " 0   code_module           32593 non-null  object\n",
      " 1   code_presentation     32593 non-null  object\n",
      " 2   id_student            32593 non-null  string\n",
      " 3   gender                32593 non-null  object\n",
      " 4   region                32593 non-null  object\n",
      " 5   highest_education     32593 non-null  object\n",
      " 6   imd_band              31482 non-null  object\n",
      " 7   age_band              32593 non-null  object\n",
      " 8   num_of_prev_attempts  32593 non-null  int64 \n",
      " 9   studied_credits       32593 non-null  int64 \n",
      " 10  disability            32593 non-null  object\n",
      " 11  final_result          32593 non-null  object\n",
      "dtypes: int64(2), object(9), string(1)\n",
      "memory usage: 3.0+ MB\n"
     ]
    }
   ],
   "source": [
    "studentInfo.info()"
   ]
  },
  {
   "cell_type": "code",
   "execution_count": 9,
   "id": "342b035d-bf31-4349-a7e7-b051fa47aacb",
   "metadata": {
    "tags": []
   },
   "outputs": [],
   "source": [
    "##### assesments #####\n",
    "assessments['id_assessment'] = assessments['id_assessment'].astype(\"string\")"
   ]
  },
  {
   "cell_type": "code",
   "execution_count": 10,
   "id": "538cf442-b191-477d-994f-9103a6917328",
   "metadata": {
    "tags": []
   },
   "outputs": [
    {
     "name": "stdout",
     "output_type": "stream",
     "text": [
      "<class 'pandas.core.frame.DataFrame'>\n",
      "RangeIndex: 206 entries, 0 to 205\n",
      "Data columns (total 6 columns):\n",
      " #   Column             Non-Null Count  Dtype  \n",
      "---  ------             --------------  -----  \n",
      " 0   code_module        206 non-null    object \n",
      " 1   code_presentation  206 non-null    object \n",
      " 2   id_assessment      206 non-null    string \n",
      " 3   assessment_type    206 non-null    object \n",
      " 4   date               195 non-null    float64\n",
      " 5   weight             206 non-null    float64\n",
      "dtypes: float64(2), object(3), string(1)\n",
      "memory usage: 9.8+ KB\n"
     ]
    }
   ],
   "source": [
    "assessments.info()"
   ]
  },
  {
   "cell_type": "code",
   "execution_count": 11,
   "id": "8e07fd51-5d36-4410-a648-6840eecf77b8",
   "metadata": {
    "tags": []
   },
   "outputs": [],
   "source": [
    "##### studentAssesment #####\n",
    "studentAssessment['id_student'] = studentAssessment['id_student'].astype(\"string\")\n",
    "studentAssessment['id_assessment'] = studentAssessment['id_assessment'].astype(\"string\")"
   ]
  },
  {
   "cell_type": "code",
   "execution_count": 12,
   "id": "edb991ca-1b19-4a84-991e-e5b9269eef33",
   "metadata": {
    "tags": []
   },
   "outputs": [
    {
     "name": "stdout",
     "output_type": "stream",
     "text": [
      "<class 'pandas.core.frame.DataFrame'>\n",
      "RangeIndex: 173912 entries, 0 to 173911\n",
      "Data columns (total 5 columns):\n",
      " #   Column          Non-Null Count   Dtype  \n",
      "---  ------          --------------   -----  \n",
      " 0   id_assessment   173912 non-null  string \n",
      " 1   id_student      173912 non-null  string \n",
      " 2   date_submitted  173912 non-null  int64  \n",
      " 3   is_banked       173912 non-null  int64  \n",
      " 4   score           173739 non-null  float64\n",
      "dtypes: float64(1), int64(2), string(2)\n",
      "memory usage: 6.6 MB\n"
     ]
    }
   ],
   "source": [
    "studentAssessment.info()"
   ]
  },
  {
   "cell_type": "markdown",
   "id": "45c2e244-ddb1-472e-bbca-56089ed8160c",
   "metadata": {
    "jp-MarkdownHeadingCollapsed": true,
    "tags": []
   },
   "source": [
    "### Menambahkan kolom untuk memperjelas hierarchies "
   ]
  },
  {
   "cell_type": "code",
   "execution_count": 13,
   "id": "f482e50a-98d4-496f-8a15-1b074f560044",
   "metadata": {
    "tags": []
   },
   "outputs": [],
   "source": [
    "def categorise(row):\n",
    "    if row['imd_band'] == '0-10%' or row['imd_band']=='10-20' or row['imd_band'] == '20-30%':\n",
    "        return 'Most Deprived'\n",
    "    elif row['imd_band'] == '30-40%' or row['imd_band']=='40-50%' or row['imd_band'] == '50-60%' or row['imd_band'] == '60-70%':\n",
    "        return 'Medium Deprived'\n",
    "    elif  row['imd_band']=='70-80%' or row['imd_band'] == '80-90%' or  row['imd_band'] == '90-100%':\n",
    "        return 'Least Deprived'\n",
    "    return 'nan'\n",
    "studentInfo['imd_level'] = studentInfo.apply(lambda row: categorise(row), axis=1)"
   ]
  },
  {
   "cell_type": "code",
   "execution_count": 14,
   "id": "39e36dc8-0c90-4141-88e6-fedfdeeb318f",
   "metadata": {},
   "outputs": [],
   "source": [
    "def categorise(row):\n",
    "    if row['region']=='Scotland' or row['region']=='North Western Region' or row['region']=='North Region' or row['region']=='North Region':\n",
    "        return 'Northern Region'\n",
    "    else:\n",
    "        return 'Southern Region'\n",
    "    return 'nan'\n",
    "studentInfo['general_region'] = studentInfo.apply(lambda row: categorise(row), axis=1)"
   ]
  },
  {
   "cell_type": "code",
   "execution_count": 15,
   "id": "783be9e6-0db4-409b-a8fa-9488be510259",
   "metadata": {},
   "outputs": [
    {
     "name": "stdout",
     "output_type": "stream",
     "text": [
      "<class 'pandas.core.frame.DataFrame'>\n",
      "RangeIndex: 32593 entries, 0 to 32592\n",
      "Data columns (total 14 columns):\n",
      " #   Column                Non-Null Count  Dtype \n",
      "---  ------                --------------  ----- \n",
      " 0   code_module           32593 non-null  object\n",
      " 1   code_presentation     32593 non-null  object\n",
      " 2   id_student            32593 non-null  string\n",
      " 3   gender                32593 non-null  object\n",
      " 4   region                32593 non-null  object\n",
      " 5   highest_education     32593 non-null  object\n",
      " 6   imd_band              31482 non-null  object\n",
      " 7   age_band              32593 non-null  object\n",
      " 8   num_of_prev_attempts  32593 non-null  int64 \n",
      " 9   studied_credits       32593 non-null  int64 \n",
      " 10  disability            32593 non-null  object\n",
      " 11  final_result          32593 non-null  object\n",
      " 12  imd_level             32593 non-null  object\n",
      " 13  general_region        32593 non-null  object\n",
      "dtypes: int64(2), object(11), string(1)\n",
      "memory usage: 3.5+ MB\n"
     ]
    }
   ],
   "source": [
    "studentInfo.info()"
   ]
  },
  {
   "cell_type": "markdown",
   "id": "36501202-0281-410a-970f-2e65df720c53",
   "metadata": {},
   "source": [
    "## Buat Insight dan Cube"
   ]
  },
  {
   "cell_type": "markdown",
   "id": "fadafdca-97b3-48c3-8833-c1c59f2471fd",
   "metadata": {
    "tags": []
   },
   "source": [
    "### Membuat session untuk masing-masing tabel"
   ]
  },
  {
   "cell_type": "code",
   "execution_count": 16,
   "id": "b7b655c0-91a1-42a7-a8a2-7c49ab8d8969",
   "metadata": {},
   "outputs": [],
   "source": [
    "session = tt.Session()"
   ]
  },
  {
   "cell_type": "code",
   "execution_count": 17,
   "id": "cbba9c87-60a3-47ad-a145-9cea08244257",
   "metadata": {},
   "outputs": [],
   "source": [
    "studentAssessment_session = session.read_pandas(studentAssessment, table_name = \"studentAssessment\")"
   ]
  },
  {
   "cell_type": "code",
   "execution_count": 18,
   "id": "8b36d73b-6eae-48af-88ca-e95e76720766",
   "metadata": {
    "tags": []
   },
   "outputs": [
    {
     "data": {
      "text/html": [
       "<div>\n",
       "<style scoped>\n",
       "    .dataframe tbody tr th:only-of-type {\n",
       "        vertical-align: middle;\n",
       "    }\n",
       "\n",
       "    .dataframe tbody tr th {\n",
       "        vertical-align: top;\n",
       "    }\n",
       "\n",
       "    .dataframe thead th {\n",
       "        text-align: right;\n",
       "    }\n",
       "</style>\n",
       "<table border=\"1\" class=\"dataframe\">\n",
       "  <thead>\n",
       "    <tr style=\"text-align: right;\">\n",
       "      <th></th>\n",
       "      <th>id_assessment</th>\n",
       "      <th>id_student</th>\n",
       "      <th>date_submitted</th>\n",
       "      <th>is_banked</th>\n",
       "      <th>score</th>\n",
       "    </tr>\n",
       "  </thead>\n",
       "  <tbody>\n",
       "    <tr>\n",
       "      <th>0</th>\n",
       "      <td>1752</td>\n",
       "      <td>11391</td>\n",
       "      <td>18</td>\n",
       "      <td>0</td>\n",
       "      <td>78.0</td>\n",
       "    </tr>\n",
       "    <tr>\n",
       "      <th>1</th>\n",
       "      <td>1752</td>\n",
       "      <td>100893</td>\n",
       "      <td>17</td>\n",
       "      <td>0</td>\n",
       "      <td>63.0</td>\n",
       "    </tr>\n",
       "    <tr>\n",
       "      <th>2</th>\n",
       "      <td>1752</td>\n",
       "      <td>106247</td>\n",
       "      <td>32</td>\n",
       "      <td>0</td>\n",
       "      <td>67.0</td>\n",
       "    </tr>\n",
       "    <tr>\n",
       "      <th>3</th>\n",
       "      <td>1752</td>\n",
       "      <td>127582</td>\n",
       "      <td>26</td>\n",
       "      <td>0</td>\n",
       "      <td>69.0</td>\n",
       "    </tr>\n",
       "    <tr>\n",
       "      <th>4</th>\n",
       "      <td>1752</td>\n",
       "      <td>142326</td>\n",
       "      <td>17</td>\n",
       "      <td>0</td>\n",
       "      <td>65.0</td>\n",
       "    </tr>\n",
       "  </tbody>\n",
       "</table>\n",
       "</div>"
      ],
      "text/plain": [
       "  id_assessment id_student  date_submitted  is_banked  score\n",
       "0          1752      11391              18          0   78.0\n",
       "1          1752     100893              17          0   63.0\n",
       "2          1752     106247              32          0   67.0\n",
       "3          1752     127582              26          0   69.0\n",
       "4          1752     142326              17          0   65.0"
      ]
     },
     "execution_count": 18,
     "metadata": {},
     "output_type": "execute_result"
    }
   ],
   "source": [
    "studentAssessment_session.head()"
   ]
  },
  {
   "cell_type": "code",
   "execution_count": 19,
   "id": "eb7d4796-7b80-40bc-a6b3-ffdd811f732a",
   "metadata": {},
   "outputs": [],
   "source": [
    "courses_session = session.read_pandas(courses, table_name = \"courses\")"
   ]
  },
  {
   "cell_type": "code",
   "execution_count": 20,
   "id": "9cc07039-1401-4aa3-b7d9-d75edca26e86",
   "metadata": {
    "tags": []
   },
   "outputs": [
    {
     "data": {
      "text/html": [
       "<div>\n",
       "<style scoped>\n",
       "    .dataframe tbody tr th:only-of-type {\n",
       "        vertical-align: middle;\n",
       "    }\n",
       "\n",
       "    .dataframe tbody tr th {\n",
       "        vertical-align: top;\n",
       "    }\n",
       "\n",
       "    .dataframe thead th {\n",
       "        text-align: right;\n",
       "    }\n",
       "</style>\n",
       "<table border=\"1\" class=\"dataframe\">\n",
       "  <thead>\n",
       "    <tr style=\"text-align: right;\">\n",
       "      <th></th>\n",
       "      <th>code_module</th>\n",
       "      <th>code_presentation</th>\n",
       "      <th>module_presentation_length</th>\n",
       "    </tr>\n",
       "  </thead>\n",
       "  <tbody>\n",
       "    <tr>\n",
       "      <th>0</th>\n",
       "      <td>AAA</td>\n",
       "      <td>2013J</td>\n",
       "      <td>268</td>\n",
       "    </tr>\n",
       "    <tr>\n",
       "      <th>1</th>\n",
       "      <td>GGG</td>\n",
       "      <td>2014J</td>\n",
       "      <td>269</td>\n",
       "    </tr>\n",
       "    <tr>\n",
       "      <th>2</th>\n",
       "      <td>AAA</td>\n",
       "      <td>2014J</td>\n",
       "      <td>269</td>\n",
       "    </tr>\n",
       "    <tr>\n",
       "      <th>3</th>\n",
       "      <td>FFF</td>\n",
       "      <td>2014J</td>\n",
       "      <td>269</td>\n",
       "    </tr>\n",
       "    <tr>\n",
       "      <th>4</th>\n",
       "      <td>BBB</td>\n",
       "      <td>2013J</td>\n",
       "      <td>268</td>\n",
       "    </tr>\n",
       "  </tbody>\n",
       "</table>\n",
       "</div>"
      ],
      "text/plain": [
       "  code_module code_presentation  module_presentation_length\n",
       "0         AAA             2013J                         268\n",
       "1         GGG             2014J                         269\n",
       "2         AAA             2014J                         269\n",
       "3         FFF             2014J                         269\n",
       "4         BBB             2013J                         268"
      ]
     },
     "execution_count": 20,
     "metadata": {},
     "output_type": "execute_result"
    }
   ],
   "source": [
    "courses_session.head()"
   ]
  },
  {
   "cell_type": "code",
   "execution_count": 21,
   "id": "6e2b92cb-047f-4a51-897e-2554439d14ea",
   "metadata": {},
   "outputs": [],
   "source": [
    "studentInfo_session = session.read_pandas(studentInfo, table_name = \"Studentinfo\")"
   ]
  },
  {
   "cell_type": "code",
   "execution_count": 22,
   "id": "9bab2afa-37fe-412d-a72a-f086d2571b26",
   "metadata": {
    "tags": []
   },
   "outputs": [
    {
     "data": {
      "text/html": [
       "<div>\n",
       "<style scoped>\n",
       "    .dataframe tbody tr th:only-of-type {\n",
       "        vertical-align: middle;\n",
       "    }\n",
       "\n",
       "    .dataframe tbody tr th {\n",
       "        vertical-align: top;\n",
       "    }\n",
       "\n",
       "    .dataframe thead th {\n",
       "        text-align: right;\n",
       "    }\n",
       "</style>\n",
       "<table border=\"1\" class=\"dataframe\">\n",
       "  <thead>\n",
       "    <tr style=\"text-align: right;\">\n",
       "      <th></th>\n",
       "      <th>code_module</th>\n",
       "      <th>code_presentation</th>\n",
       "      <th>id_student</th>\n",
       "      <th>gender</th>\n",
       "      <th>region</th>\n",
       "      <th>highest_education</th>\n",
       "      <th>imd_band</th>\n",
       "      <th>age_band</th>\n",
       "      <th>num_of_prev_attempts</th>\n",
       "      <th>studied_credits</th>\n",
       "      <th>disability</th>\n",
       "      <th>final_result</th>\n",
       "      <th>imd_level</th>\n",
       "      <th>general_region</th>\n",
       "    </tr>\n",
       "  </thead>\n",
       "  <tbody>\n",
       "    <tr>\n",
       "      <th>0</th>\n",
       "      <td>AAA</td>\n",
       "      <td>2013J</td>\n",
       "      <td>11391</td>\n",
       "      <td>M</td>\n",
       "      <td>East Anglian Region</td>\n",
       "      <td>HE Qualification</td>\n",
       "      <td>90-100%</td>\n",
       "      <td>55&lt;=</td>\n",
       "      <td>0</td>\n",
       "      <td>240</td>\n",
       "      <td>N</td>\n",
       "      <td>Pass</td>\n",
       "      <td>Least Deprived</td>\n",
       "      <td>Southern Region</td>\n",
       "    </tr>\n",
       "    <tr>\n",
       "      <th>1</th>\n",
       "      <td>AAA</td>\n",
       "      <td>2013J</td>\n",
       "      <td>32885</td>\n",
       "      <td>F</td>\n",
       "      <td>West Midlands Region</td>\n",
       "      <td>Lower Than A Level</td>\n",
       "      <td>50-60%</td>\n",
       "      <td>0-35</td>\n",
       "      <td>0</td>\n",
       "      <td>60</td>\n",
       "      <td>N</td>\n",
       "      <td>Pass</td>\n",
       "      <td>Medium Deprived</td>\n",
       "      <td>Southern Region</td>\n",
       "    </tr>\n",
       "    <tr>\n",
       "      <th>2</th>\n",
       "      <td>AAA</td>\n",
       "      <td>2013J</td>\n",
       "      <td>65002</td>\n",
       "      <td>F</td>\n",
       "      <td>East Anglian Region</td>\n",
       "      <td>A Level or Equivalent</td>\n",
       "      <td>70-80%</td>\n",
       "      <td>0-35</td>\n",
       "      <td>0</td>\n",
       "      <td>60</td>\n",
       "      <td>N</td>\n",
       "      <td>Withdrawn</td>\n",
       "      <td>Least Deprived</td>\n",
       "      <td>Southern Region</td>\n",
       "    </tr>\n",
       "    <tr>\n",
       "      <th>3</th>\n",
       "      <td>AAA</td>\n",
       "      <td>2013J</td>\n",
       "      <td>94961</td>\n",
       "      <td>M</td>\n",
       "      <td>South Region</td>\n",
       "      <td>Lower Than A Level</td>\n",
       "      <td>70-80%</td>\n",
       "      <td>35-55</td>\n",
       "      <td>0</td>\n",
       "      <td>60</td>\n",
       "      <td>N</td>\n",
       "      <td>Withdrawn</td>\n",
       "      <td>Least Deprived</td>\n",
       "      <td>Southern Region</td>\n",
       "    </tr>\n",
       "    <tr>\n",
       "      <th>4</th>\n",
       "      <td>AAA</td>\n",
       "      <td>2013J</td>\n",
       "      <td>101781</td>\n",
       "      <td>M</td>\n",
       "      <td>South Region</td>\n",
       "      <td>Lower Than A Level</td>\n",
       "      <td>80-90%</td>\n",
       "      <td>35-55</td>\n",
       "      <td>0</td>\n",
       "      <td>60</td>\n",
       "      <td>N</td>\n",
       "      <td>Pass</td>\n",
       "      <td>Least Deprived</td>\n",
       "      <td>Southern Region</td>\n",
       "    </tr>\n",
       "  </tbody>\n",
       "</table>\n",
       "</div>"
      ],
      "text/plain": [
       "  code_module code_presentation id_student gender                region  \\\n",
       "0         AAA             2013J      11391      M   East Anglian Region   \n",
       "1         AAA             2013J      32885      F  West Midlands Region   \n",
       "2         AAA             2013J      65002      F   East Anglian Region   \n",
       "3         AAA             2013J      94961      M          South Region   \n",
       "4         AAA             2013J     101781      M          South Region   \n",
       "\n",
       "       highest_education imd_band age_band  num_of_prev_attempts  \\\n",
       "0       HE Qualification  90-100%     55<=                     0   \n",
       "1     Lower Than A Level   50-60%     0-35                     0   \n",
       "2  A Level or Equivalent   70-80%     0-35                     0   \n",
       "3     Lower Than A Level   70-80%    35-55                     0   \n",
       "4     Lower Than A Level   80-90%    35-55                     0   \n",
       "\n",
       "   studied_credits disability final_result        imd_level   general_region  \n",
       "0              240          N         Pass   Least Deprived  Southern Region  \n",
       "1               60          N         Pass  Medium Deprived  Southern Region  \n",
       "2               60          N    Withdrawn   Least Deprived  Southern Region  \n",
       "3               60          N    Withdrawn   Least Deprived  Southern Region  \n",
       "4               60          N         Pass   Least Deprived  Southern Region  "
      ]
     },
     "execution_count": 22,
     "metadata": {},
     "output_type": "execute_result"
    }
   ],
   "source": [
    "studentInfo_session.head()"
   ]
  },
  {
   "cell_type": "code",
   "execution_count": null,
   "id": "d0bed1e9-2a52-4b96-9c06-313b91483e47",
   "metadata": {},
   "outputs": [],
   "source": [
    "assessments_session = session.read_pandas(assessments, table_name = \"assessments\")"
   ]
  },
  {
   "cell_type": "code",
   "execution_count": null,
   "id": "5919aae9-82d7-4eb1-be5c-0100e9e1b950",
   "metadata": {},
   "outputs": [],
   "source": [
    "assessments_session.head()"
   ]
  },
  {
   "cell_type": "markdown",
   "id": "97adbfa6-0034-405d-b84f-db362e002b07",
   "metadata": {
    "tags": []
   },
   "source": [
    "### Membuat cube"
   ]
  },
  {
   "cell_type": "code",
   "execution_count": 23,
   "id": "89219d76-8bbd-41aa-9b9f-dc4e067b5314",
   "metadata": {},
   "outputs": [],
   "source": [
    "cube = session.create_cube(studentAssessment_session)"
   ]
  },
  {
   "cell_type": "code",
   "execution_count": 24,
   "id": "20eaa08b-e901-422c-b253-08fc72dda7fe",
   "metadata": {},
   "outputs": [],
   "source": [
    "studentInfo_session.join(courses_session, mapping = {\"code_module\": \"code_module\"})"
   ]
  },
  {
   "cell_type": "code",
   "execution_count": null,
   "id": "b76bbb1c-825f-428c-a609-54f6baad34d2",
   "metadata": {},
   "outputs": [],
   "source": [
    "studentAssessment_session.join(assessments_sessoin, mapping={\"id_assessment\":\"id_assessment\"}"
   ]
  },
  {
   "cell_type": "code",
   "execution_count": 25,
   "id": "14ee8778-e428-4389-b6f8-f3afe1f4da0c",
   "metadata": {},
   "outputs": [],
   "source": [
    "studentAssessment_session.join(studentInfo_session, mapping = {\"id_student\": \"id_student\"})"
   ]
  },
  {
   "cell_type": "code",
   "execution_count": 26,
   "id": "57912ca9-e1f5-4390-b6c6-127a2cb7a95c",
   "metadata": {
    "tags": []
   },
   "outputs": [
    {
     "data": {
      "application/json": {
       "Studentinfo": {
        "age_band": [
         "age_band"
        ],
        "code_module": [
         "code_module"
        ],
        "code_presentation": [
         "code_presentation"
        ],
        "disability": [
         "disability"
        ],
        "final_result": [
         "final_result"
        ],
        "gender": [
         "gender"
        ],
        "general_region": [
         "general_region"
        ],
        "highest_education": [
         "highest_education"
        ],
        "imd_band": [
         "imd_band"
        ],
        "imd_level": [
         "imd_level"
        ],
        "region": [
         "region"
        ]
       },
       "courses": {
        "code_presentation": [
         "code_presentation"
        ]
       },
       "studentAssessment": {
        "id_assessment": [
         "id_assessment"
        ],
        "id_student": [
         "id_student"
        ]
       }
      },
      "text/html": [
       "<ul>\n",
       "<li>Dimensions\n",
       "  <ul>\n",
       "  <li>Studentinfo\n",
       "    <ul>\n",
       "    <li>age_band\n",
       "      <ol>\n",
       "      <li>age_band</li>\n",
       "      </ol>    </li>\n",
       "    <li>code_module\n",
       "      <ol>\n",
       "      <li>code_module</li>\n",
       "      </ol>    </li>\n",
       "    <li>code_presentation\n",
       "      <ol>\n",
       "      <li>code_presentation</li>\n",
       "      </ol>    </li>\n",
       "    <li>disability\n",
       "      <ol>\n",
       "      <li>disability</li>\n",
       "      </ol>    </li>\n",
       "    <li>final_result\n",
       "      <ol>\n",
       "      <li>final_result</li>\n",
       "      </ol>    </li>\n",
       "    <li>gender\n",
       "      <ol>\n",
       "      <li>gender</li>\n",
       "      </ol>    </li>\n",
       "    <li>general_region\n",
       "      <ol>\n",
       "      <li>general_region</li>\n",
       "      </ol>    </li>\n",
       "    <li>highest_education\n",
       "      <ol>\n",
       "      <li>highest_education</li>\n",
       "      </ol>    </li>\n",
       "    <li>imd_band\n",
       "      <ol>\n",
       "      <li>imd_band</li>\n",
       "      </ol>    </li>\n",
       "    <li>imd_level\n",
       "      <ol>\n",
       "      <li>imd_level</li>\n",
       "      </ol>    </li>\n",
       "    <li>region\n",
       "      <ol>\n",
       "      <li>region</li>\n",
       "      </ol>    </li>\n",
       "    </ul>\n",
       "  </li>\n",
       "  <li>courses\n",
       "    <ul>\n",
       "    <li>code_presentation\n",
       "      <ol>\n",
       "      <li>code_presentation</li>\n",
       "      </ol>    </li>\n",
       "    </ul>\n",
       "  </li>\n",
       "  <li>studentAssessment\n",
       "    <ul>\n",
       "    <li>id_assessment\n",
       "      <ol>\n",
       "      <li>id_assessment</li>\n",
       "      </ol>    </li>\n",
       "    <li>id_student\n",
       "      <ol>\n",
       "      <li>id_student</li>\n",
       "      </ol>    </li>\n",
       "    </ul>\n",
       "  </li>\n",
       "  </ul>\n",
       "</li>\n",
       "</ul>\n"
      ],
      "text/plain": [
       "Hierarchies(_create_hierarchy_from_arguments=<bound method Cube._create_hierarchy_from_arguments of Cube(_name='studentAssessment', _hierarchies=..., _measures=Measures())>, _cube_name='studentAssessment')"
      ]
     },
     "execution_count": 26,
     "metadata": {
      "application/json": {
       "expanded": true,
       "root": "Dimensions"
      }
     },
     "output_type": "execute_result"
    }
   ],
   "source": [
    "hrc = cube.hierarchies\n",
    "l = cube.levels\n",
    "m = cube.measures\n",
    "hrc"
   ]
  },
  {
   "cell_type": "markdown",
   "id": "ca0da4b6-123d-4882-ae56-e54a9b88b57c",
   "metadata": {},
   "source": [
    "### Menambahkan hierarchies pelengkap"
   ]
  },
  {
   "cell_type": "code",
   "execution_count": 27,
   "id": "35cb50f6-9e58-4a4b-9f41-a97745d701ab",
   "metadata": {
    "tags": []
   },
   "outputs": [],
   "source": [
    "hrc['imd'] = [l['imd_level'],l['imd_band']]\n",
    "hrc['regions'] = [l['general_region'],l['region']]"
   ]
  },
  {
   "cell_type": "code",
   "execution_count": 28,
   "id": "928bbcb1-19b3-4e73-974e-395fcc4733ff",
   "metadata": {
    "tags": []
   },
   "outputs": [
    {
     "data": {
      "application/json": {
       "Studentinfo": {
        "age_band": [
         "age_band"
        ],
        "code_module": [
         "code_module"
        ],
        "code_presentation": [
         "code_presentation"
        ],
        "disability": [
         "disability"
        ],
        "final_result": [
         "final_result"
        ],
        "gender": [
         "gender"
        ],
        "highest_education": [
         "highest_education"
        ],
        "imd": [
         "imd_level",
         "imd_band"
        ],
        "regions": [
         "general_region",
         "region"
        ]
       },
       "courses": {
        "code_presentation": [
         "code_presentation"
        ]
       },
       "studentAssessment": {
        "id_assessment": [
         "id_assessment"
        ],
        "id_student": [
         "id_student"
        ]
       }
      },
      "text/html": [
       "<ul>\n",
       "<li>Dimensions\n",
       "  <ul>\n",
       "  <li>Studentinfo\n",
       "    <ul>\n",
       "    <li>age_band\n",
       "      <ol>\n",
       "      <li>age_band</li>\n",
       "      </ol>    </li>\n",
       "    <li>code_module\n",
       "      <ol>\n",
       "      <li>code_module</li>\n",
       "      </ol>    </li>\n",
       "    <li>code_presentation\n",
       "      <ol>\n",
       "      <li>code_presentation</li>\n",
       "      </ol>    </li>\n",
       "    <li>disability\n",
       "      <ol>\n",
       "      <li>disability</li>\n",
       "      </ol>    </li>\n",
       "    <li>final_result\n",
       "      <ol>\n",
       "      <li>final_result</li>\n",
       "      </ol>    </li>\n",
       "    <li>gender\n",
       "      <ol>\n",
       "      <li>gender</li>\n",
       "      </ol>    </li>\n",
       "    <li>highest_education\n",
       "      <ol>\n",
       "      <li>highest_education</li>\n",
       "      </ol>    </li>\n",
       "    <li>imd\n",
       "      <ol>\n",
       "      <li>imd_level</li>\n",
       "      <li>imd_band</li>\n",
       "      </ol>    </li>\n",
       "    <li>regions\n",
       "      <ol>\n",
       "      <li>general_region</li>\n",
       "      <li>region</li>\n",
       "      </ol>    </li>\n",
       "    </ul>\n",
       "  </li>\n",
       "  <li>courses\n",
       "    <ul>\n",
       "    <li>code_presentation\n",
       "      <ol>\n",
       "      <li>code_presentation</li>\n",
       "      </ol>    </li>\n",
       "    </ul>\n",
       "  </li>\n",
       "  <li>studentAssessment\n",
       "    <ul>\n",
       "    <li>id_assessment\n",
       "      <ol>\n",
       "      <li>id_assessment</li>\n",
       "      </ol>    </li>\n",
       "    <li>id_student\n",
       "      <ol>\n",
       "      <li>id_student</li>\n",
       "      </ol>    </li>\n",
       "    </ul>\n",
       "  </li>\n",
       "  </ul>\n",
       "</li>\n",
       "</ul>\n"
      ],
      "text/plain": [
       "Hierarchies(_create_hierarchy_from_arguments=<bound method Cube._create_hierarchy_from_arguments of Cube(_name='studentAssessment', _hierarchies=..., _measures=Measures())>, _cube_name='studentAssessment')"
      ]
     },
     "execution_count": 28,
     "metadata": {
      "application/json": {
       "expanded": true,
       "root": "Dimensions"
      }
     },
     "output_type": "execute_result"
    }
   ],
   "source": [
    "del hrc['imd_level']\n",
    "del hrc['imd_band']\n",
    "del hrc['general_region']\n",
    "del hrc['region']\n",
    "hrc"
   ]
  },
  {
   "cell_type": "code",
   "execution_count": 29,
   "id": "39e66a96-0080-4289-8c10-df718c0bf1d7",
   "metadata": {
    "tags": []
   },
   "outputs": [
    {
     "data": {
      "image/svg+xml": [
       "<svg xmlns=\"http://www.w3.org/2000/svg\" xmlns:xlink=\"http://www.w3.org/1999/xlink\" width=\"1074px\" height=\"378px\" viewBox=\"0.00 0.00 1074.00 378.00\">\n",
       "<g id=\"graph0\" class=\"graph\" transform=\"scale(1.0 1.0) rotate(0) translate(4 374)\">\n",
       "<title>Datastore schema</title>\n",
       "<polygon fill=\"white\" stroke=\"transparent\" points=\"-4,4 -4,-374 1070,-374 1070,4 -4,4\"/>\n",
       "<!-- courses -->\n",
       "<g id=\"node1\" class=\"node\">\n",
       "<title>courses</title>\n",
       "<text text-anchor=\"start\" x=\"914\" y=\"-218.6\" font-family=\"-apple-system, BlinkMacSystemFont, 'Segoe UI', Helvetica, Arial, sans-serif, 'Apple Color Emoji', 'Segoe UI Emoji', 'Segoe UI Symbol'\" font-weight=\"bold\" font-size=\"13.00\">courses</text>\n",
       "<polygon fill=\"#f5f5f5\" stroke=\"transparent\" points=\"823,-185 823,-209 833,-209 833,-185 823,-185\"/>\n",
       "<polygon fill=\"#f5f5f5\" stroke=\"transparent\" points=\"833,-185 833,-209 1012,-209 1012,-185 833,-185\"/>\n",
       "<text text-anchor=\"start\" x=\"838\" y=\"-193.6\" font-family=\"-apple-system, BlinkMacSystemFont, 'Segoe UI', Helvetica, Arial, sans-serif, 'Apple Color Emoji', 'Segoe UI Emoji', 'Segoe UI Symbol'\" font-size=\"13.00\">code_module</text>\n",
       "<polygon fill=\"#f5f5f5\" stroke=\"transparent\" points=\"1012,-185 1012,-209 1057,-209 1057,-185 1012,-185\"/>\n",
       "<text text-anchor=\"start\" x=\"1017\" y=\"-194.6\" font-family=\"-apple-system, BlinkMacSystemFont, 'Segoe UI', Helvetica, Arial, sans-serif, 'Apple Color Emoji', 'Segoe UI Emoji', 'Segoe UI Symbol'\" font-style=\"italic\" font-size=\"13.00\">String</text>\n",
       "<polygon fill=\"#ffffff\" stroke=\"transparent\" points=\"823,-161 823,-185 833,-185 833,-161 823,-161\"/>\n",
       "<polygon fill=\"#ffffff\" stroke=\"transparent\" points=\"833,-161 833,-185 1012,-185 1012,-161 833,-161\"/>\n",
       "<text text-anchor=\"start\" x=\"838\" y=\"-169.6\" font-family=\"-apple-system, BlinkMacSystemFont, 'Segoe UI', Helvetica, Arial, sans-serif, 'Apple Color Emoji', 'Segoe UI Emoji', 'Segoe UI Symbol'\" font-size=\"13.00\">code_presentation</text>\n",
       "<polygon fill=\"#ffffff\" stroke=\"transparent\" points=\"1012,-161 1012,-185 1057,-185 1057,-161 1012,-161\"/>\n",
       "<text text-anchor=\"start\" x=\"1017\" y=\"-170.6\" font-family=\"-apple-system, BlinkMacSystemFont, 'Segoe UI', Helvetica, Arial, sans-serif, 'Apple Color Emoji', 'Segoe UI Emoji', 'Segoe UI Symbol'\" font-style=\"italic\" font-size=\"13.00\">String</text>\n",
       "<polygon fill=\"#f5f5f5\" stroke=\"transparent\" points=\"823,-137 823,-161 833,-161 833,-137 823,-137\"/>\n",
       "<polygon fill=\"#f5f5f5\" stroke=\"transparent\" points=\"833,-137 833,-161 1012,-161 1012,-137 833,-137\"/>\n",
       "<text text-anchor=\"start\" x=\"838\" y=\"-145.6\" font-family=\"-apple-system, BlinkMacSystemFont, 'Segoe UI', Helvetica, Arial, sans-serif, 'Apple Color Emoji', 'Segoe UI Emoji', 'Segoe UI Symbol'\" font-size=\"13.00\">module_presentation_length</text>\n",
       "<polygon fill=\"#f5f5f5\" stroke=\"transparent\" points=\"1012,-137 1012,-161 1057,-161 1057,-137 1012,-137\"/>\n",
       "<text text-anchor=\"start\" x=\"1026\" y=\"-146.6\" font-family=\"-apple-system, BlinkMacSystemFont, 'Segoe UI', Helvetica, Arial, sans-serif, 'Apple Color Emoji', 'Segoe UI Emoji', 'Segoe UI Symbol'\" font-style=\"italic\" font-size=\"13.00\">long</text>\n",
       "<polygon fill=\"none\" stroke=\"black\" points=\"822,-136 822,-234 1058,-234 1058,-136 822,-136\"/>\n",
       "</g>\n",
       "<!-- studentAssessment -->\n",
       "<g id=\"node2\" class=\"node\">\n",
       "<title>studentAssessment</title>\n",
       "<text text-anchor=\"start\" x=\"35.5\" y=\"-254.6\" font-family=\"-apple-system, BlinkMacSystemFont, 'Segoe UI', Helvetica, Arial, sans-serif, 'Apple Color Emoji', 'Segoe UI Emoji', 'Segoe UI Symbol'\" font-weight=\"bold\" font-size=\"13.00\">studentAssessment</text>\n",
       "<text text-anchor=\"start\" x=\"14.5\" y=\"-228.6\" font-family=\"-apple-system, BlinkMacSystemFont, 'Segoe UI', Helvetica, Arial, sans-serif, 'Apple Color Emoji', 'Segoe UI Emoji', 'Segoe UI Symbol'\" font-size=\"13.00\">base of: studentAssessment</text>\n",
       "<polygon fill=\"#f5f5f5\" stroke=\"transparent\" points=\"9.5,-196 9.5,-220 27.5,-220 27.5,-196 9.5,-196\"/>\n",
       "<polygon fill=\"#f5f5f5\" stroke=\"transparent\" points=\"27.5,-196 27.5,-220 132.5,-220 132.5,-196 27.5,-196\"/>\n",
       "<text text-anchor=\"start\" x=\"32.5\" y=\"-204.6\" font-family=\"-apple-system, BlinkMacSystemFont, 'Segoe UI', Helvetica, Arial, sans-serif, 'Apple Color Emoji', 'Segoe UI Emoji', 'Segoe UI Symbol'\" font-size=\"13.00\">id_assessment</text>\n",
       "<polygon fill=\"#f5f5f5\" stroke=\"transparent\" points=\"132.5,-196 132.5,-220 188.5,-220 188.5,-196 132.5,-196\"/>\n",
       "<text text-anchor=\"start\" x=\"148.5\" y=\"-205.6\" font-family=\"-apple-system, BlinkMacSystemFont, 'Segoe UI', Helvetica, Arial, sans-serif, 'Apple Color Emoji', 'Segoe UI Emoji', 'Segoe UI Symbol'\" font-style=\"italic\" font-size=\"13.00\">String</text>\n",
       "<polygon fill=\"#ffffff\" stroke=\"transparent\" points=\"9.5,-172 9.5,-196 27.5,-196 27.5,-172 9.5,-172\"/>\n",
       "<polygon fill=\"#ffffff\" stroke=\"transparent\" points=\"27.5,-172 27.5,-196 132.5,-196 132.5,-172 27.5,-172\"/>\n",
       "<text text-anchor=\"start\" x=\"32.5\" y=\"-180.6\" font-family=\"-apple-system, BlinkMacSystemFont, 'Segoe UI', Helvetica, Arial, sans-serif, 'Apple Color Emoji', 'Segoe UI Emoji', 'Segoe UI Symbol'\" font-size=\"13.00\">id_student</text>\n",
       "<polygon fill=\"#ffffff\" stroke=\"transparent\" points=\"132.5,-172 132.5,-196 188.5,-196 188.5,-172 132.5,-172\"/>\n",
       "<text text-anchor=\"start\" x=\"148.5\" y=\"-181.6\" font-family=\"-apple-system, BlinkMacSystemFont, 'Segoe UI', Helvetica, Arial, sans-serif, 'Apple Color Emoji', 'Segoe UI Emoji', 'Segoe UI Symbol'\" font-style=\"italic\" font-size=\"13.00\">String</text>\n",
       "<polygon fill=\"#f5f5f5\" stroke=\"transparent\" points=\"9.5,-148 9.5,-172 27.5,-172 27.5,-148 9.5,-148\"/>\n",
       "<polygon fill=\"#f5f5f5\" stroke=\"transparent\" points=\"27.5,-148 27.5,-172 132.5,-172 132.5,-148 27.5,-148\"/>\n",
       "<text text-anchor=\"start\" x=\"32.5\" y=\"-156.6\" font-family=\"-apple-system, BlinkMacSystemFont, 'Segoe UI', Helvetica, Arial, sans-serif, 'Apple Color Emoji', 'Segoe UI Emoji', 'Segoe UI Symbol'\" font-size=\"13.00\">date_submitted</text>\n",
       "<polygon fill=\"#f5f5f5\" stroke=\"transparent\" points=\"132.5,-148 132.5,-172 188.5,-172 188.5,-148 132.5,-148\"/>\n",
       "<text text-anchor=\"start\" x=\"157.5\" y=\"-157.6\" font-family=\"-apple-system, BlinkMacSystemFont, 'Segoe UI', Helvetica, Arial, sans-serif, 'Apple Color Emoji', 'Segoe UI Emoji', 'Segoe UI Symbol'\" font-style=\"italic\" font-size=\"13.00\">long</text>\n",
       "<polygon fill=\"#ffffff\" stroke=\"transparent\" points=\"9.5,-124 9.5,-148 27.5,-148 27.5,-124 9.5,-124\"/>\n",
       "<polygon fill=\"#ffffff\" stroke=\"transparent\" points=\"27.5,-124 27.5,-148 132.5,-148 132.5,-124 27.5,-124\"/>\n",
       "<text text-anchor=\"start\" x=\"32.5\" y=\"-132.6\" font-family=\"-apple-system, BlinkMacSystemFont, 'Segoe UI', Helvetica, Arial, sans-serif, 'Apple Color Emoji', 'Segoe UI Emoji', 'Segoe UI Symbol'\" font-size=\"13.00\">is_banked</text>\n",
       "<polygon fill=\"#ffffff\" stroke=\"transparent\" points=\"132.5,-124 132.5,-148 188.5,-148 188.5,-124 132.5,-124\"/>\n",
       "<text text-anchor=\"start\" x=\"157.5\" y=\"-133.6\" font-family=\"-apple-system, BlinkMacSystemFont, 'Segoe UI', Helvetica, Arial, sans-serif, 'Apple Color Emoji', 'Segoe UI Emoji', 'Segoe UI Symbol'\" font-style=\"italic\" font-size=\"13.00\">long</text>\n",
       "<polygon fill=\"#f5f5f5\" stroke=\"transparent\" points=\"9.5,-100 9.5,-124 27.5,-124 27.5,-100 9.5,-100\"/>\n",
       "<polygon fill=\"#f5f5f5\" stroke=\"transparent\" points=\"27.5,-100 27.5,-124 132.5,-124 132.5,-100 27.5,-100\"/>\n",
       "<text text-anchor=\"start\" x=\"32.5\" y=\"-108.6\" font-family=\"-apple-system, BlinkMacSystemFont, 'Segoe UI', Helvetica, Arial, sans-serif, 'Apple Color Emoji', 'Segoe UI Emoji', 'Segoe UI Symbol'\" font-size=\"13.00\">score</text>\n",
       "<polygon fill=\"#f5f5f5\" stroke=\"transparent\" points=\"132.5,-100 132.5,-124 188.5,-124 188.5,-100 132.5,-100\"/>\n",
       "<text text-anchor=\"start\" x=\"142.5\" y=\"-109.6\" font-family=\"-apple-system, BlinkMacSystemFont, 'Segoe UI', Helvetica, Arial, sans-serif, 'Apple Color Emoji', 'Segoe UI Emoji', 'Segoe UI Symbol'\" font-style=\"italic\" font-size=\"13.00\">double</text>\n",
       "<polygon fill=\"none\" stroke=\"black\" points=\"8,-99.5 8,-270.5 189,-270.5 189,-99.5 8,-99.5\"/>\n",
       "</g>\n",
       "<!-- Studentinfo -->\n",
       "<g id=\"node3\" class=\"node\">\n",
       "<title>Studentinfo</title>\n",
       "<text text-anchor=\"start\" x=\"450\" y=\"-350.6\" font-family=\"-apple-system, BlinkMacSystemFont, 'Segoe UI', Helvetica, Arial, sans-serif, 'Apple Color Emoji', 'Segoe UI Emoji', 'Segoe UI Symbol'\" font-weight=\"bold\" font-size=\"13.00\">Studentinfo</text>\n",
       "<polygon fill=\"#f5f5f5\" stroke=\"transparent\" points=\"387.5,-317 387.5,-341 397.5,-341 397.5,-317 387.5,-317\"/>\n",
       "<polygon fill=\"#f5f5f5\" stroke=\"transparent\" points=\"397.5,-317 397.5,-341 543.5,-341 543.5,-317 397.5,-317\"/>\n",
       "<text text-anchor=\"start\" x=\"402.5\" y=\"-325.6\" font-family=\"-apple-system, BlinkMacSystemFont, 'Segoe UI', Helvetica, Arial, sans-serif, 'Apple Color Emoji', 'Segoe UI Emoji', 'Segoe UI Symbol'\" font-size=\"13.00\">code_module</text>\n",
       "<polygon fill=\"#f5f5f5\" stroke=\"transparent\" points=\"543.5,-317 543.5,-341 588.5,-341 588.5,-317 543.5,-317\"/>\n",
       "<text text-anchor=\"start\" x=\"548.5\" y=\"-326.6\" font-family=\"-apple-system, BlinkMacSystemFont, 'Segoe UI', Helvetica, Arial, sans-serif, 'Apple Color Emoji', 'Segoe UI Emoji', 'Segoe UI Symbol'\" font-style=\"italic\" font-size=\"13.00\">String</text>\n",
       "<polygon fill=\"#ffffff\" stroke=\"transparent\" points=\"387.5,-293 387.5,-317 397.5,-317 397.5,-293 387.5,-293\"/>\n",
       "<polygon fill=\"#ffffff\" stroke=\"transparent\" points=\"397.5,-293 397.5,-317 543.5,-317 543.5,-293 397.5,-293\"/>\n",
       "<text text-anchor=\"start\" x=\"402.5\" y=\"-301.6\" font-family=\"-apple-system, BlinkMacSystemFont, 'Segoe UI', Helvetica, Arial, sans-serif, 'Apple Color Emoji', 'Segoe UI Emoji', 'Segoe UI Symbol'\" font-size=\"13.00\">code_presentation</text>\n",
       "<polygon fill=\"#ffffff\" stroke=\"transparent\" points=\"543.5,-293 543.5,-317 588.5,-317 588.5,-293 543.5,-293\"/>\n",
       "<text text-anchor=\"start\" x=\"548.5\" y=\"-302.6\" font-family=\"-apple-system, BlinkMacSystemFont, 'Segoe UI', Helvetica, Arial, sans-serif, 'Apple Color Emoji', 'Segoe UI Emoji', 'Segoe UI Symbol'\" font-style=\"italic\" font-size=\"13.00\">String</text>\n",
       "<polygon fill=\"#f5f5f5\" stroke=\"transparent\" points=\"387.5,-269 387.5,-293 397.5,-293 397.5,-269 387.5,-269\"/>\n",
       "<polygon fill=\"#f5f5f5\" stroke=\"transparent\" points=\"397.5,-269 397.5,-293 543.5,-293 543.5,-269 397.5,-269\"/>\n",
       "<text text-anchor=\"start\" x=\"402.5\" y=\"-277.6\" font-family=\"-apple-system, BlinkMacSystemFont, 'Segoe UI', Helvetica, Arial, sans-serif, 'Apple Color Emoji', 'Segoe UI Emoji', 'Segoe UI Symbol'\" font-size=\"13.00\">id_student</text>\n",
       "<polygon fill=\"#f5f5f5\" stroke=\"transparent\" points=\"543.5,-269 543.5,-293 588.5,-293 588.5,-269 543.5,-269\"/>\n",
       "<text text-anchor=\"start\" x=\"548.5\" y=\"-278.6\" font-family=\"-apple-system, BlinkMacSystemFont, 'Segoe UI', Helvetica, Arial, sans-serif, 'Apple Color Emoji', 'Segoe UI Emoji', 'Segoe UI Symbol'\" font-style=\"italic\" font-size=\"13.00\">String</text>\n",
       "<polygon fill=\"#ffffff\" stroke=\"transparent\" points=\"387.5,-245 387.5,-269 397.5,-269 397.5,-245 387.5,-245\"/>\n",
       "<polygon fill=\"#ffffff\" stroke=\"transparent\" points=\"397.5,-245 397.5,-269 543.5,-269 543.5,-245 397.5,-245\"/>\n",
       "<text text-anchor=\"start\" x=\"402.5\" y=\"-253.6\" font-family=\"-apple-system, BlinkMacSystemFont, 'Segoe UI', Helvetica, Arial, sans-serif, 'Apple Color Emoji', 'Segoe UI Emoji', 'Segoe UI Symbol'\" font-size=\"13.00\">gender</text>\n",
       "<polygon fill=\"#ffffff\" stroke=\"transparent\" points=\"543.5,-245 543.5,-269 588.5,-269 588.5,-245 543.5,-245\"/>\n",
       "<text text-anchor=\"start\" x=\"548.5\" y=\"-254.6\" font-family=\"-apple-system, BlinkMacSystemFont, 'Segoe UI', Helvetica, Arial, sans-serif, 'Apple Color Emoji', 'Segoe UI Emoji', 'Segoe UI Symbol'\" font-style=\"italic\" font-size=\"13.00\">String</text>\n",
       "<polygon fill=\"#f5f5f5\" stroke=\"transparent\" points=\"387.5,-221 387.5,-245 397.5,-245 397.5,-221 387.5,-221\"/>\n",
       "<polygon fill=\"#f5f5f5\" stroke=\"transparent\" points=\"397.5,-221 397.5,-245 543.5,-245 543.5,-221 397.5,-221\"/>\n",
       "<text text-anchor=\"start\" x=\"402.5\" y=\"-229.6\" font-family=\"-apple-system, BlinkMacSystemFont, 'Segoe UI', Helvetica, Arial, sans-serif, 'Apple Color Emoji', 'Segoe UI Emoji', 'Segoe UI Symbol'\" font-size=\"13.00\">region</text>\n",
       "<polygon fill=\"#f5f5f5\" stroke=\"transparent\" points=\"543.5,-221 543.5,-245 588.5,-245 588.5,-221 543.5,-221\"/>\n",
       "<text text-anchor=\"start\" x=\"548.5\" y=\"-230.6\" font-family=\"-apple-system, BlinkMacSystemFont, 'Segoe UI', Helvetica, Arial, sans-serif, 'Apple Color Emoji', 'Segoe UI Emoji', 'Segoe UI Symbol'\" font-style=\"italic\" font-size=\"13.00\">String</text>\n",
       "<polygon fill=\"#ffffff\" stroke=\"transparent\" points=\"387.5,-197 387.5,-221 397.5,-221 397.5,-197 387.5,-197\"/>\n",
       "<polygon fill=\"#ffffff\" stroke=\"transparent\" points=\"397.5,-197 397.5,-221 543.5,-221 543.5,-197 397.5,-197\"/>\n",
       "<text text-anchor=\"start\" x=\"402.5\" y=\"-205.6\" font-family=\"-apple-system, BlinkMacSystemFont, 'Segoe UI', Helvetica, Arial, sans-serif, 'Apple Color Emoji', 'Segoe UI Emoji', 'Segoe UI Symbol'\" font-size=\"13.00\">highest_education</text>\n",
       "<polygon fill=\"#ffffff\" stroke=\"transparent\" points=\"543.5,-197 543.5,-221 588.5,-221 588.5,-197 543.5,-197\"/>\n",
       "<text text-anchor=\"start\" x=\"548.5\" y=\"-206.6\" font-family=\"-apple-system, BlinkMacSystemFont, 'Segoe UI', Helvetica, Arial, sans-serif, 'Apple Color Emoji', 'Segoe UI Emoji', 'Segoe UI Symbol'\" font-style=\"italic\" font-size=\"13.00\">String</text>\n",
       "<polygon fill=\"#f5f5f5\" stroke=\"transparent\" points=\"387.5,-173 387.5,-197 397.5,-197 397.5,-173 387.5,-173\"/>\n",
       "<polygon fill=\"#f5f5f5\" stroke=\"transparent\" points=\"397.5,-173 397.5,-197 543.5,-197 543.5,-173 397.5,-173\"/>\n",
       "<text text-anchor=\"start\" x=\"402.5\" y=\"-181.6\" font-family=\"-apple-system, BlinkMacSystemFont, 'Segoe UI', Helvetica, Arial, sans-serif, 'Apple Color Emoji', 'Segoe UI Emoji', 'Segoe UI Symbol'\" font-size=\"13.00\">imd_band</text>\n",
       "<polygon fill=\"#f5f5f5\" stroke=\"transparent\" points=\"543.5,-173 543.5,-197 588.5,-197 588.5,-173 543.5,-173\"/>\n",
       "<text text-anchor=\"start\" x=\"548.5\" y=\"-182.6\" font-family=\"-apple-system, BlinkMacSystemFont, 'Segoe UI', Helvetica, Arial, sans-serif, 'Apple Color Emoji', 'Segoe UI Emoji', 'Segoe UI Symbol'\" font-style=\"italic\" font-size=\"13.00\">String</text>\n",
       "<polygon fill=\"#ffffff\" stroke=\"transparent\" points=\"387.5,-149 387.5,-173 397.5,-173 397.5,-149 387.5,-149\"/>\n",
       "<polygon fill=\"#ffffff\" stroke=\"transparent\" points=\"397.5,-149 397.5,-173 543.5,-173 543.5,-149 397.5,-149\"/>\n",
       "<text text-anchor=\"start\" x=\"402.5\" y=\"-157.6\" font-family=\"-apple-system, BlinkMacSystemFont, 'Segoe UI', Helvetica, Arial, sans-serif, 'Apple Color Emoji', 'Segoe UI Emoji', 'Segoe UI Symbol'\" font-size=\"13.00\">age_band</text>\n",
       "<polygon fill=\"#ffffff\" stroke=\"transparent\" points=\"543.5,-149 543.5,-173 588.5,-173 588.5,-149 543.5,-149\"/>\n",
       "<text text-anchor=\"start\" x=\"548.5\" y=\"-158.6\" font-family=\"-apple-system, BlinkMacSystemFont, 'Segoe UI', Helvetica, Arial, sans-serif, 'Apple Color Emoji', 'Segoe UI Emoji', 'Segoe UI Symbol'\" font-style=\"italic\" font-size=\"13.00\">String</text>\n",
       "<polygon fill=\"#f5f5f5\" stroke=\"transparent\" points=\"387.5,-125 387.5,-149 397.5,-149 397.5,-125 387.5,-125\"/>\n",
       "<polygon fill=\"#f5f5f5\" stroke=\"transparent\" points=\"397.5,-125 397.5,-149 543.5,-149 543.5,-125 397.5,-125\"/>\n",
       "<text text-anchor=\"start\" x=\"402.5\" y=\"-133.6\" font-family=\"-apple-system, BlinkMacSystemFont, 'Segoe UI', Helvetica, Arial, sans-serif, 'Apple Color Emoji', 'Segoe UI Emoji', 'Segoe UI Symbol'\" font-size=\"13.00\">num_of_prev_attempts</text>\n",
       "<polygon fill=\"#f5f5f5\" stroke=\"transparent\" points=\"543.5,-125 543.5,-149 588.5,-149 588.5,-125 543.5,-125\"/>\n",
       "<text text-anchor=\"start\" x=\"557.5\" y=\"-134.6\" font-family=\"-apple-system, BlinkMacSystemFont, 'Segoe UI', Helvetica, Arial, sans-serif, 'Apple Color Emoji', 'Segoe UI Emoji', 'Segoe UI Symbol'\" font-style=\"italic\" font-size=\"13.00\">long</text>\n",
       "<polygon fill=\"#ffffff\" stroke=\"transparent\" points=\"387.5,-101 387.5,-125 397.5,-125 397.5,-101 387.5,-101\"/>\n",
       "<polygon fill=\"#ffffff\" stroke=\"transparent\" points=\"397.5,-101 397.5,-125 543.5,-125 543.5,-101 397.5,-101\"/>\n",
       "<text text-anchor=\"start\" x=\"402.5\" y=\"-109.6\" font-family=\"-apple-system, BlinkMacSystemFont, 'Segoe UI', Helvetica, Arial, sans-serif, 'Apple Color Emoji', 'Segoe UI Emoji', 'Segoe UI Symbol'\" font-size=\"13.00\">studied_credits</text>\n",
       "<polygon fill=\"#ffffff\" stroke=\"transparent\" points=\"543.5,-101 543.5,-125 588.5,-125 588.5,-101 543.5,-101\"/>\n",
       "<text text-anchor=\"start\" x=\"557.5\" y=\"-110.6\" font-family=\"-apple-system, BlinkMacSystemFont, 'Segoe UI', Helvetica, Arial, sans-serif, 'Apple Color Emoji', 'Segoe UI Emoji', 'Segoe UI Symbol'\" font-style=\"italic\" font-size=\"13.00\">long</text>\n",
       "<polygon fill=\"#f5f5f5\" stroke=\"transparent\" points=\"387.5,-77 387.5,-101 397.5,-101 397.5,-77 387.5,-77\"/>\n",
       "<polygon fill=\"#f5f5f5\" stroke=\"transparent\" points=\"397.5,-77 397.5,-101 543.5,-101 543.5,-77 397.5,-77\"/>\n",
       "<text text-anchor=\"start\" x=\"402.5\" y=\"-85.6\" font-family=\"-apple-system, BlinkMacSystemFont, 'Segoe UI', Helvetica, Arial, sans-serif, 'Apple Color Emoji', 'Segoe UI Emoji', 'Segoe UI Symbol'\" font-size=\"13.00\">disability</text>\n",
       "<polygon fill=\"#f5f5f5\" stroke=\"transparent\" points=\"543.5,-77 543.5,-101 588.5,-101 588.5,-77 543.5,-77\"/>\n",
       "<text text-anchor=\"start\" x=\"548.5\" y=\"-86.6\" font-family=\"-apple-system, BlinkMacSystemFont, 'Segoe UI', Helvetica, Arial, sans-serif, 'Apple Color Emoji', 'Segoe UI Emoji', 'Segoe UI Symbol'\" font-style=\"italic\" font-size=\"13.00\">String</text>\n",
       "<polygon fill=\"#ffffff\" stroke=\"transparent\" points=\"387.5,-53 387.5,-77 397.5,-77 397.5,-53 387.5,-53\"/>\n",
       "<polygon fill=\"#ffffff\" stroke=\"transparent\" points=\"397.5,-53 397.5,-77 543.5,-77 543.5,-53 397.5,-53\"/>\n",
       "<text text-anchor=\"start\" x=\"402.5\" y=\"-61.6\" font-family=\"-apple-system, BlinkMacSystemFont, 'Segoe UI', Helvetica, Arial, sans-serif, 'Apple Color Emoji', 'Segoe UI Emoji', 'Segoe UI Symbol'\" font-size=\"13.00\">final_result</text>\n",
       "<polygon fill=\"#ffffff\" stroke=\"transparent\" points=\"543.5,-53 543.5,-77 588.5,-77 588.5,-53 543.5,-53\"/>\n",
       "<text text-anchor=\"start\" x=\"548.5\" y=\"-62.6\" font-family=\"-apple-system, BlinkMacSystemFont, 'Segoe UI', Helvetica, Arial, sans-serif, 'Apple Color Emoji', 'Segoe UI Emoji', 'Segoe UI Symbol'\" font-style=\"italic\" font-size=\"13.00\">String</text>\n",
       "<polygon fill=\"#f5f5f5\" stroke=\"transparent\" points=\"387.5,-29 387.5,-53 397.5,-53 397.5,-29 387.5,-29\"/>\n",
       "<polygon fill=\"#f5f5f5\" stroke=\"transparent\" points=\"397.5,-29 397.5,-53 543.5,-53 543.5,-29 397.5,-29\"/>\n",
       "<text text-anchor=\"start\" x=\"402.5\" y=\"-37.6\" font-family=\"-apple-system, BlinkMacSystemFont, 'Segoe UI', Helvetica, Arial, sans-serif, 'Apple Color Emoji', 'Segoe UI Emoji', 'Segoe UI Symbol'\" font-size=\"13.00\">imd_level</text>\n",
       "<polygon fill=\"#f5f5f5\" stroke=\"transparent\" points=\"543.5,-29 543.5,-53 588.5,-53 588.5,-29 543.5,-29\"/>\n",
       "<text text-anchor=\"start\" x=\"548.5\" y=\"-38.6\" font-family=\"-apple-system, BlinkMacSystemFont, 'Segoe UI', Helvetica, Arial, sans-serif, 'Apple Color Emoji', 'Segoe UI Emoji', 'Segoe UI Symbol'\" font-style=\"italic\" font-size=\"13.00\">String</text>\n",
       "<polygon fill=\"#ffffff\" stroke=\"transparent\" points=\"387.5,-5 387.5,-29 397.5,-29 397.5,-5 387.5,-5\"/>\n",
       "<polygon fill=\"#ffffff\" stroke=\"transparent\" points=\"397.5,-5 397.5,-29 543.5,-29 543.5,-5 397.5,-5\"/>\n",
       "<text text-anchor=\"start\" x=\"402.5\" y=\"-13.6\" font-family=\"-apple-system, BlinkMacSystemFont, 'Segoe UI', Helvetica, Arial, sans-serif, 'Apple Color Emoji', 'Segoe UI Emoji', 'Segoe UI Symbol'\" font-size=\"13.00\">general_region</text>\n",
       "<polygon fill=\"#ffffff\" stroke=\"transparent\" points=\"543.5,-5 543.5,-29 588.5,-29 588.5,-5 543.5,-5\"/>\n",
       "<text text-anchor=\"start\" x=\"548.5\" y=\"-14.6\" font-family=\"-apple-system, BlinkMacSystemFont, 'Segoe UI', Helvetica, Arial, sans-serif, 'Apple Color Emoji', 'Segoe UI Emoji', 'Segoe UI Symbol'\" font-style=\"italic\" font-size=\"13.00\">String</text>\n",
       "<polygon fill=\"none\" stroke=\"black\" points=\"386,-4 386,-366 589,-366 589,-4 386,-4\"/>\n",
       "</g>\n",
       "<!-- studentAssessment&#45;&gt;Studentinfo -->\n",
       "<g id=\"edge1\" class=\"edge\">\n",
       "<title>studentAssessment-&gt;Studentinfo</title>\n",
       "<path fill=\"none\" stroke=\"black\" d=\"M197.16,-185C249.01,-185 313.15,-185 367.86,-185\"/>\n",
       "<polygon fill=\"black\" stroke=\"black\" points=\"367.96,-188.5 377.96,-185 367.96,-181.5 367.96,-188.5\"/>\n",
       "<text text-anchor=\"middle\" x=\"287.5\" y=\"-188.6\" font-family=\"-apple-system, BlinkMacSystemFont, 'Segoe UI', Helvetica, Arial, sans-serif, 'Apple Color Emoji', 'Segoe UI Emoji', 'Segoe UI Symbol'\" font-size=\"13.00\">id_student → id_student</text>\n",
       "</g>\n",
       "<!-- Studentinfo&#45;&gt;courses -->\n",
       "<g id=\"edge2\" class=\"edge\">\n",
       "<title>Studentinfo-&gt;courses</title>\n",
       "<path fill=\"none\" stroke=\"black\" d=\"M597.27,-185C659.31,-185 737.61,-185 803.61,-185\"/>\n",
       "<polygon fill=\"black\" stroke=\"black\" points=\"803.67,-188.5 813.67,-185 803.67,-181.5 803.67,-188.5\"/>\n",
       "<text text-anchor=\"middle\" x=\"705.5\" y=\"-188.6\" font-family=\"-apple-system, BlinkMacSystemFont, 'Segoe UI', Helvetica, Arial, sans-serif, 'Apple Color Emoji', 'Segoe UI Emoji', 'Segoe UI Symbol'\" font-size=\"13.00\">code_module → code_module</text>\n",
       "</g>\n",
       "</g>\n",
       "</svg>"
      ],
      "text/plain": [
       "<IPython.core.display.SVG object>"
      ]
     },
     "execution_count": 29,
     "metadata": {},
     "output_type": "execute_result"
    }
   ],
   "source": [
    "session.tables.schema"
   ]
  },
  {
   "cell_type": "code",
   "execution_count": 30,
   "id": "21b14ef7-baa7-4de9-95fb-e39a688e0ccc",
   "metadata": {
    "atoti": {
     "height": 600,
     "widget": {
      "mapping": {
       "columns": [
        "ALL_MEASURES"
       ],
       "measures": [
        "[Measures].[score.MEAN]"
       ],
       "rows": [
        "[Studentinfo].[regions].[general_region]"
       ]
      },
      "query": {
       "mdx": "SELECT NON EMPTY {[Measures].[score.MEAN]} ON COLUMNS, NON EMPTY Hierarchize(Descendants({[Studentinfo].[regions].[AllMember]}, 1, SELF_AND_BEFORE)) ON ROWS FROM [studentAssessment] CELL PROPERTIES VALUE, FORMATTED_VALUE, BACK_COLOR, FORE_COLOR, FONT_FLAGS",
       "updateMode": "once"
      },
      "serverKey": "default",
      "widgetKey": "pivot-table"
     }
    },
    "tags": []
   },
   "outputs": [
    {
     "data": {
      "application/vnd.atoti.widget.v0+json": {
       "name": null,
       "sessionId": "1667889726_5XY2CI",
       "sessionLocation": {
        "https": false,
        "port": 40913
       },
       "widgetCreationCode": "session.visualize()"
      },
      "text/html": [
       "<img src=\"data:image/svg+xml;charset=utf8,%3C%3Fxml%20version%3D%221.0%22%20standalone%3D%22no%22%3F%3E%3Csvg%20xmlns%3D%22http%3A%2F%2Fwww.w3.org%2F2000%2Fsvg%22%20height%3D%22592%22%20width%3D%221416%22%3E%3CforeignObject%20width%3D%22100%25%22%20height%3D%22100%25%22%20x%3D%220%22%20y%3D%220%22%3E%3Cstyle%20xmlns%3D%22http%3A%2F%2Fwww.w3.org%2F1999%2Fxhtml%22%20type%3D%22text%2Fcss%22%3E.anticon%20%7Bdisplay%3A%20inline-block%3B%20color%3A%20inherit%3B%20font-style%3A%20normal%3B%20line-height%3A%200%3B%20text-align%3A%20center%3B%20text-transform%3A%20none%3B%20vertical-align%3A%20-0.125em%3B%20text-rendering%3A%20optimizelegibility%7D%0A.anticon%20%26gt%3B%20*%20%7Bline-height%3A%201%7D%0A.anticon%20svg%20%7Bdisplay%3A%20inline-block%7D%0A.anticon%5Btabindex%5D%20%7Bcursor%3A%20pointer%7D%0A*%2C%20%3A%3Abefore%2C%20%3A%3Aafter%20%7Bbox-sizing%3A%20unset%7D%0A.ant-root%20%5Bclass%5E%3D%22ant-%22%5D%2C%20.ant-root%20%5Bclass*%3D%22ant-%22%5D%2C%20.ant-root%20%5Bclass%5E%3D%22ant-%22%5D%20*%2C%20.ant-root%20%5Bclass*%3D%22ant-%22%5D%20*%2C%20.ant-root%20%5Bclass%5E%3D%22ant-%22%5D%20%3A%3Abefore%2C%20.ant-root%20%5Bclass*%3D%22ant-%22%5D%20%3A%3Abefore%2C%20.ant-root%20%5Bclass%5E%3D%22ant-%22%5D%20%3A%3Aafter%2C%20.ant-root%20%5Bclass*%3D%22ant-%22%5D%20%3A%3Aafter%20%7Bbox-sizing%3A%20border-box%7D%0A.ant-root%2C%20.ant-root%20%7Bwidth%3A%20100%25%3B%20height%3A%20100%25%7D%0A.ant-root%20*%2C%20.ant-root%20%3A%3Abefore%2C%20.ant-root%20%3A%3Aafter%20%7Bbox-sizing%3A%20border-box%7D%0A.ant-root%20%7Bfont-family%3A%20-apple-system%2C%20BlinkMacSystemFont%2C%20Segoe%20UI%2C%20Roboto%2C%20Helvetica%20Neue%2C%20Arial%2C%20Noto%20Sans%2C%20sans-serif%2C%20Apple%20Color%20Emoji%2C%20Segoe%20UI%20Emoji%2C%20Segoe%20UI%20Symbol%2C%20Noto%20Color%20Emoji%3B%20line-height%3A%201.66667%3B%20color%3A%20rgb(89%2C%2089%2C%2089)%3B%20font-variant-caps%3A%20normal%3B%20font-variant-alternates%3A%20normal%3B%20font-variant-east-asian%3A%20normal%3B%20font-variant-ligatures%3A%20normal%3B%20font-variant-numeric%3A%20tabular-nums%3B%20font-variant-position%3A%20normal%3B%20background-color%3A%20rgb(255%2C%20255%2C%20255)%3B%20margin-top%3A%200px%3B%20margin-right%3A%200px%3B%20margin-bottom%3A%200px%3B%20margin-left%3A%200px%3B%20font-size%3A%2012px%3B%20--antd-wave-shadow-color%3A%20%231890ff%3B%20--scroll-bar%3A%200%7D%0A.ant-root%20svg%3Anot(%3Aroot)%20%7Boverflow-x%3A%20hidden%3B%20overflow-y%3A%20hidden%7D%0A.ant-root%20.anticon%20%7Bcolor%3A%20inherit%3B%20text-align%3A%20center%3B%20text-transform%3A%20none%3B%20vertical-align%3A%20-0.125em%3B%20text-rendering%3A%20optimizelegibility%3B%20font-style%3A%20normal%3B%20line-height%3A%200%3B%20display%3A%20inline-block%7D%0A.ant-root%20.anticon%20%26gt%3B%20*%20%7Bline-height%3A%201%7D%0A.ant-root%20.anticon%20svg%20%7Bdisplay%3A%20inline-block%7D%0A.ant-root%20.anticon%5Btabindex%5D%20%7Bcursor%3A%20pointer%7D%0A.ant-root%20.aui-invisible-scrollbars%20%7Bscrollbar-width%3A%20none%7D%0A.css-12ebr42-AWidget%20%7Bheight%3A%20100%25%7D%0A.css-dvbwkq-LoadingOverlay%20%7Bheight%3A%20100%25%3B%20position%3A%20relative%7D%0A.css-1657ky8-LoadingOverlay%20%7Bdisplay%3A%20flex%3B%20height%3A%20100%25%3B%20-moz-box-pack%3A%20center%3B%20justify-content%3A%20center%3B%20position%3A%20absolute%3B%20width%3A%20100%25%3B%20-moz-box-align%3A%20center%3B%20align-items%3A%20center%3B%20pointer-events%3A%20none%3B%20z-index%3A%202%7D%0A.css-tjddi6-LoadingOverlay%20%7Bbackground-color%3A%20transparent%3B%20background-position-x%3A%200%25%3B%20background-position-y%3A%200%25%3B%20background-repeat%3A%20repeat%3B%20background-attachment%3A%20scroll%3B%20background-image%3A%20none%3B%20background-size%3A%20auto%3B%20background-origin%3A%20padding-box%3B%20background-clip%3A%20border-box%3B%20width%3A%20calc(100%25%20-%204px)%3B%20height%3A%20calc(100%25%20-%204px)%7D%0A.css-1hwl8p1-Table%20%7Bpadding-bottom%3A%202px%3B%20padding-right%3A%202px%3B%20height%3A%20100%25%7D%0A.css-14ejcn0-Table%20%7Bheight%3A%20calc(100%25%20-%2030px)%3B%20outline-color%3A%20currentcolor%3B%20outline-style%3A%20none%3B%20outline-width%3A%20medium%3B%20position%3A%20relative%7D%0A.css-1rxpjm0-ColumnResizeHint%20%7Bdisplay%3A%20none%3B%20position%3A%20absolute%3B%20z-index%3A%201%7D%0A.css-1uww2vi-Table%20%7Bheight%3A%2030px%3B%20text-align%3A%20right%3B%20padding-right%3A%2025px%7D%0A.css-1q5bkkl-Table%20%7Bdisplay%3A%20flex%3B%20height%3A%20560px%7D%0A.css-1hol363-ResizableCell%20%7Bdisplay%3A%20flex%3B%20flex-direction%3A%20column%3B%20position%3A%20absolute%3B%20top%3A%200px%3B%20left%3A%200px%3B%20height%3A%2028px%3B%20width%3A%20120px%7D%0A.css-xxcrt1-ResizableCell%20%7Bbackground-color%3A%20transparent%3B%20background-position-x%3A%200%25%3B%20background-position-y%3A%200%25%3B%20background-repeat%3A%20repeat%3B%20background-attachment%3A%20scroll%3B%20background-image%3A%20none%3B%20background-size%3A%20auto%3B%20background-origin%3A%20padding-box%3B%20background-clip%3A%20border-box%3B%20cursor%3A%20col-resize%3B%20height%3A%20100%25%3B%20position%3A%20absolute%3B%20right%3A%200px%3B%20width%3A%205px%3B%20z-index%3A%201%7D%0A.css-vlo3ja%20%7Bcursor%3A%20cell%3B%20height%3A%2084px%3B%20overflow-x%3A%20hidden%3B%20overflow-y%3A%20hidden%3B%20position%3A%20relative%3B%20width%3A%20120px%3B%20border-top-color%3A%20rgb(233%2C%20233%2C%20233)%3B%20border-top-style%3A%20solid%3B%20border-top-width%3A%202px%3B%20border-right-color%3A%20rgb(233%2C%20233%2C%20233)%3B%20border-right-style%3A%20solid%3B%20border-right-width%3A%202px%7D%0A.css-a95wt7-Table%20%7Bwidth%3A%201294px%3B%20border-collapse%3A%20collapse%7D%0A.css-walxhl-ColumnResizeHint%20%7Bheight%3A%2028px%3B%20background-color%3A%20rgb(24%2C%20144%2C%20255)%3B%20width%3A%205px%7D%0A.css-10zypvc-ColumnResizeHint%20%7Bdisplay%3A%20none%3B%20float%3A%20right%3B%20height%3A%20532px%3B%20background-color%3A%20rgb(24%2C%20144%2C%20255)%3B%20opacity%3A%200.4%3B%20width%3A%202px%7D%0A.css-9wvnih-Table%20%7Bborder-collapse%3A%20collapse%3B%20height%3A%2028px%3B%20width%3A%20120px%7D%0A.css-gy6esx%20%7Bheight%3A%2028px%3B%20width%3A%20120px%7D%0A.css-n1rdc6%20%7Bcursor%3A%20cell%3B%20height%3A%2028px%3B%20overflow-x%3A%20hidden%3B%20overflow-y%3A%20hidden%3B%20position%3A%20relative%3B%20width%3A%20120px%3B%20border-right-color%3A%20rgb(233%2C%20233%2C%20233)%3B%20border-right-style%3A%20solid%3B%20border-right-width%3A%202px%7D%0A.css-3v66iq%20%7Bheight%3A%20532px%3B%20width%3A%20120px%3B%20overflow-x%3A%20hidden%3B%20overflow-y%3A%20auto%7D%0A.css-7lyxw6%20%7Bheight%3A%2028px%3B%20width%3A%201276px%3B%20overflow-x%3A%20auto%3B%20overflow-y%3A%20hidden%7D%0A.css-1toshix%20%7Bcursor%3A%20cell%3B%20height%3A%2028px%3B%20overflow-x%3A%20hidden%3B%20overflow-y%3A%20hidden%3B%20position%3A%20relative%3B%20width%3A%20120px%7D%0A.css-lp08l%20%7Bheight%3A%20532px%3B%20width%3A%201294px%3B%20overflow-x%3A%20auto%3B%20overflow-y%3A%20auto%7D%0A.css-z3gkq3%20%7Bcursor%3A%20cell%3B%20height%3A%2084px%3B%20overflow-x%3A%20hidden%3B%20overflow-y%3A%20hidden%3B%20position%3A%20relative%3B%20width%3A%20120px%3B%20border-top-color%3A%20rgb(233%2C%20233%2C%20233)%3B%20border-top-style%3A%20solid%3B%20border-top-width%3A%202px%7D%0A.css-d4t5ko-SelectionOverlay%20%7Bbackground-color%3A%20rgba(0%2C%20132%2C%20255%2C%200.1)%3B%20background-position-x%3A%200%25%3B%20background-position-y%3A%200%25%3B%20background-repeat%3A%20repeat%3B%20background-attachment%3A%20scroll%3B%20background-image%3A%20none%3B%20background-size%3A%20auto%3B%20background-origin%3A%20padding-box%3B%20background-clip%3A%20border-box%3B%20position%3A%20absolute%3B%20top%3A%20140px%3B%20left%3A%200px%3B%20height%3A%2028px%3B%20width%3A%20120px%3B%20pointer-events%3A%20none%7D%0A*%20%7B-ms-overflow-style%3A%20none%3B%20scrollbar-width%3A%20none%7D%0A*%3A%3A-webkit-scrollbar%20%7Bdisplay%3A%20none%7D%0A.atoti-hidden-in-snapshot%20%7Bdisplay%3A%20none%7D%3C%2Fstyle%3E%3Cdiv%20xmlns%3D%22http%3A%2F%2Fwww.w3.org%2F1999%2Fxhtml%22%20style%3D%22height%3A%20592px%3B%20width%3A%201416px%3B%22%3E%3Cdiv%20class%3D%22ant-root%20css-0%22%3E%3Cdiv%20class%3D%22ant-dropdown-trigger%20css-12ebr42-AWidget%22%3E%3Cdiv%20class%3D%22css-dvbwkq-LoadingOverlay%22%3E%3Cdiv%20class%3D%22css-1657ky8-LoadingOverlay%22%3E%3Cdiv%20class%3D%22css-tjddi6-LoadingOverlay%22%3E%3C%2Fdiv%3E%3C%2Fdiv%3E%3Cdiv%20class%3D%22css-1hwl8p1-Table%22%3E%3Cdiv%20tabindex%3D%220%22%20class%3D%22css-14ejcn0-Table%22%3E%3Cdiv%20class%3D%22css-1rxpjm0-ColumnResizeHint%22%3E%3Cdiv%20class%3D%22css-walxhl-ColumnResizeHint%22%3E%3C%2Fdiv%3E%3Cdiv%20class%3D%22css-10zypvc-ColumnResizeHint%22%3E%3C%2Fdiv%3E%3C%2Fdiv%3E%3Cdiv%20class%3D%22css-1q5bkkl-Table%22%3E%3Cdiv%20class%3D%22css-9wvnih-Table%22%3E%3Cdiv%20class%3D%22%20css-gy6esx%22%3E%3Cdiv%20class%3D%22css-n1rdc6%22%3E%3Cdiv%20class%3D%22css-1hol363-ResizableCell%22%3E%3Cdiv%20class%3D%22aui-table-cell%22%20style%3D%22height%3A%2028px%3B%20left%3A%200px%3B%20top%3A%200px%3B%20width%3A%20115px%3B%20text-align%3A%20left%3B%20font-size%3A%2012px%3B%20padding%3A%204px%204px%203px%3B%20overflow%3A%20hidden%3B%20position%3A%20absolute%3B%20white-space%3A%20nowrap%3B%20text-overflow%3A%20ellipsis%3B%20font-weight%3A%20600%3B%20display%3A%20flex%3B%20align-items%3A%20center%3B%22%3E%3Cspan%3Egeneral_region%3C%2Fspan%3E%3C%2Fdiv%3E%3Cdiv%20class%3D%22css-xxcrt1-ResizableCell%22%3E%3C%2Fdiv%3E%3C%2Fdiv%3E%3C%2Fdiv%3E%3C%2Fdiv%3E%3Cdiv%20class%3D%22aui-invisible-scrollbars%20css-3v66iq%22%3E%3Cdiv%20class%3D%22css-vlo3ja%22%3E%3Cdiv%20style%3D%22display%3A%20flex%3B%20align-items%3A%20center%3B%20height%3A%2028px%3B%20left%3A%200px%3B%20top%3A%200px%3B%20width%3A%20120px%3B%20text-align%3A%20left%3B%20font-size%3A%2012px%3B%20padding%3A%204px%204px%203px%3B%20overflow%3A%20hidden%3B%20position%3A%20absolute%3B%20white-space%3A%20nowrap%3B%20text-overflow%3A%20ellipsis%3B%20border-right%3A%202px%20solid%20rgb(233%2C%20233%2C%20233)%3B%20background-color%3A%20transparent%3B%22%3E%3Cspan%20style%3D%22text-overflow%3A%20ellipsis%3B%20overflow%3A%20hidden%3B%20white-space%3A%20nowrap%3B%20max-width%3A%20calc(100%25%20%2B%200px)%3B%22%3ETotal%3C%2Fspan%3E%3C%2Fdiv%3E%3Cdiv%20style%3D%22display%3A%20flex%3B%20align-items%3A%20center%3B%20height%3A%2028px%3B%20left%3A%200px%3B%20top%3A%2028px%3B%20width%3A%20120px%3B%20text-align%3A%20left%3B%20font-size%3A%2012px%3B%20padding%3A%204px%204px%203px%3B%20overflow%3A%20hidden%3B%20position%3A%20absolute%3B%20white-space%3A%20nowrap%3B%20text-overflow%3A%20ellipsis%3B%20border-right%3A%202px%20solid%20rgb(233%2C%20233%2C%20233)%3B%20background-color%3A%20rgb(250%2C%20250%2C%20250)%3B%22%3E%3Cspan%20role%3D%22img%22%20aria-label%3D%22caret-right%22%20style%3D%22cursor%3A%20pointer%3B%20font-size%3A%2012px%3B%20margin-right%3A%206px%3B%20color%3A%20rgb(217%2C%20217%2C%20217)%3B%22%20tabindex%3D%22-1%22%20class%3D%22anticon%20anticon-caret-right%22%3E%3Csvg%20xmlns%3D%22http%3A%2F%2Fwww.w3.org%2F2000%2Fsvg%22%20viewBox%3D%220%200%201024%201024%22%20focusable%3D%22false%22%20data-icon%3D%22caret-right%22%20width%3D%221em%22%20height%3D%221em%22%20fill%3D%22currentColor%22%20aria-hidden%3D%22true%22%3E%3Cpath%20d%3D%22M715.8%20493.5L335%20165.1c-14.2-12.2-35-1.2-35%2018.5v656.8c0%2019.7%2020.8%2030.7%2035%2018.5l380.8-328.4c10.9-9.4%2010.9-27.6%200-37z%22%2F%3E%3C%2Fsvg%3E%3C%2Fspan%3E%3Cspan%20style%3D%22text-overflow%3A%20ellipsis%3B%20overflow%3A%20hidden%3B%20white-space%3A%20nowrap%3B%20max-width%3A%20calc(100%25%20-%2016px)%3B%22%3ENorthern%20Region%3C%2Fspan%3E%3C%2Fdiv%3E%3Cdiv%20style%3D%22display%3A%20flex%3B%20align-items%3A%20center%3B%20height%3A%2028px%3B%20left%3A%200px%3B%20top%3A%2056px%3B%20width%3A%20120px%3B%20text-align%3A%20left%3B%20font-size%3A%2012px%3B%20padding%3A%204px%204px%203px%3B%20overflow%3A%20hidden%3B%20position%3A%20absolute%3B%20white-space%3A%20nowrap%3B%20text-overflow%3A%20ellipsis%3B%20border-right%3A%202px%20solid%20rgb(233%2C%20233%2C%20233)%3B%20background-color%3A%20transparent%3B%22%3E%3Cspan%20role%3D%22img%22%20aria-label%3D%22caret-right%22%20style%3D%22cursor%3A%20pointer%3B%20font-size%3A%2012px%3B%20margin-right%3A%206px%3B%20color%3A%20rgb(217%2C%20217%2C%20217)%3B%22%20tabindex%3D%22-1%22%20class%3D%22anticon%20anticon-caret-right%22%3E%3Csvg%20xmlns%3D%22http%3A%2F%2Fwww.w3.org%2F2000%2Fsvg%22%20viewBox%3D%220%200%201024%201024%22%20focusable%3D%22false%22%20data-icon%3D%22caret-right%22%20width%3D%221em%22%20height%3D%221em%22%20fill%3D%22currentColor%22%20aria-hidden%3D%22true%22%3E%3Cpath%20d%3D%22M715.8%20493.5L335%20165.1c-14.2-12.2-35-1.2-35%2018.5v656.8c0%2019.7%2020.8%2030.7%2035%2018.5l380.8-328.4c10.9-9.4%2010.9-27.6%200-37z%22%2F%3E%3C%2Fsvg%3E%3C%2Fspan%3E%3Cspan%20style%3D%22text-overflow%3A%20ellipsis%3B%20overflow%3A%20hidden%3B%20white-space%3A%20nowrap%3B%20max-width%3A%20calc(100%25%20-%2016px)%3B%22%3ESouthern%20Region%3C%2Fspan%3E%3C%2Fdiv%3E%3Cdiv%20class%3D%22css-d4t5ko-SelectionOverlay%22%3E%3C%2Fdiv%3E%3C%2Fdiv%3E%3C%2Fdiv%3E%3C%2Fdiv%3E%3Cdiv%20class%3D%22css-a95wt7-Table%22%3E%3Cdiv%20class%3D%22aui-invisible-scrollbars%20css-7lyxw6%22%3E%3Cdiv%20class%3D%22css-1toshix%22%3E%3Cdiv%20class%3D%22css-1hol363-ResizableCell%22%3E%3Cdiv%20style%3D%22display%3A%20flex%3B%20align-items%3A%20center%3B%20height%3A%2028px%3B%20left%3A%200px%3B%20top%3A%200px%3B%20width%3A%20115px%3B%20text-align%3A%20left%3B%20font-size%3A%2012px%3B%20padding%3A%204px%204px%203px%3B%20overflow%3A%20hidden%3B%20position%3A%20absolute%3B%20white-space%3A%20nowrap%3B%20text-overflow%3A%20ellipsis%3B%20font-weight%3A%20600%3B%22%3E%3Cspan%20style%3D%22text-overflow%3A%20ellipsis%3B%20overflow%3A%20hidden%3B%20white-space%3A%20nowrap%3B%20max-width%3A%20calc(100%25%20%2B%200px)%3B%22%3Escore.MEAN%3C%2Fspan%3E%3C%2Fdiv%3E%3Cdiv%20class%3D%22css-xxcrt1-ResizableCell%22%3E%3C%2Fdiv%3E%3C%2Fdiv%3E%3C%2Fdiv%3E%3C%2Fdiv%3E%3Cdiv%20class%3D%22%20css-lp08l%22%3E%3Cdiv%20class%3D%22css-z3gkq3%22%3E%3Cdiv%20class%3D%22aui-table-cell%22%20style%3D%22height%3A%2028px%3B%20left%3A%200px%3B%20top%3A%200px%3B%20width%3A%20120px%3B%20text-align%3A%20right%3B%20font-size%3A%2012px%3B%20padding%3A%204px%204px%203px%3B%20overflow%3A%20hidden%3B%20position%3A%20absolute%3B%20white-space%3A%20nowrap%3B%20text-overflow%3A%20ellipsis%3B%20border-right%3A%201px%20solid%20rgb(233%2C%20233%2C%20233)%3B%20background-color%3A%20transparent%3B%22%3E75.80%3C%2Fdiv%3E%3Cdiv%20class%3D%22aui-table-cell%22%20style%3D%22height%3A%2028px%3B%20left%3A%200px%3B%20top%3A%2028px%3B%20width%3A%20120px%3B%20text-align%3A%20right%3B%20font-size%3A%2012px%3B%20padding%3A%204px%204px%203px%3B%20overflow%3A%20hidden%3B%20position%3A%20absolute%3B%20white-space%3A%20nowrap%3B%20text-overflow%3A%20ellipsis%3B%20border-right%3A%201px%20solid%20rgb(233%2C%20233%2C%20233)%3B%20background-color%3A%20rgb(250%2C%20250%2C%20250)%3B%22%3E76.05%3C%2Fdiv%3E%3Cdiv%20class%3D%22aui-table-cell%22%20style%3D%22height%3A%2028px%3B%20left%3A%200px%3B%20top%3A%2056px%3B%20width%3A%20120px%3B%20text-align%3A%20right%3B%20font-size%3A%2012px%3B%20padding%3A%204px%204px%203px%3B%20overflow%3A%20hidden%3B%20position%3A%20absolute%3B%20white-space%3A%20nowrap%3B%20text-overflow%3A%20ellipsis%3B%20border-right%3A%201px%20solid%20rgb(233%2C%20233%2C%20233)%3B%20background-color%3A%20transparent%3B%22%3E75.72%3C%2Fdiv%3E%3C%2Fdiv%3E%3C%2Fdiv%3E%3C%2Fdiv%3E%3C%2Fdiv%3E%3C%2Fdiv%3E%3Cdiv%20class%3D%22css-1uww2vi-Table%22%3E%3C%2Fdiv%3E%3C%2Fdiv%3E%3C%2Fdiv%3E%3C%2Fdiv%3E%3C%2Fdiv%3E%3C%2Fdiv%3E%3C%2FforeignObject%3E%3C%2Fsvg%3E\">"
      ],
      "text/plain": [
       "Open the notebook in JupyterLab with the atoti extension enabled to build this widget."
      ]
     },
     "metadata": {},
     "output_type": "display_data"
    }
   ],
   "source": [
    "session.visualize()"
   ]
  },
  {
   "cell_type": "code",
   "execution_count": 31,
   "id": "6221457c-5597-4785-b3d6-d1a56e466dd7",
   "metadata": {
    "atoti": {
     "widget": {
      "mapping": {
       "horizontalSubplots": [],
       "splitBy": [
        "ALL_MEASURES"
       ],
       "values": [
        "[Measures].[score.MEAN]"
       ],
       "verticalSubplots": [],
       "yAxis": [
        "[Studentinfo].[regions].[general_region]",
        "[Studentinfo].[code_module].[code_module]"
       ]
      },
      "query": {
       "mdx": "SELECT NON EMPTY {[Measures].[score.MEAN]} ON COLUMNS, NON EMPTY Crossjoin(Hierarchize(Descendants({[Studentinfo].[regions].[AllMember]}, 1, SELF_AND_BEFORE)), Hierarchize(Descendants({[Studentinfo].[code_module].[AllMember]}, 1, SELF_AND_BEFORE))) ON ROWS FROM [studentAssessment] CELL PROPERTIES VALUE, FORMATTED_VALUE, BACK_COLOR, FORE_COLOR, FONT_FLAGS",
       "updateMode": "once"
      },
      "serverKey": "default",
      "widgetKey": "plotly-clustered-bar-chart"
     }
    },
    "tags": []
   },
   "outputs": [
    {
     "data": {
      "application/vnd.atoti.widget.v0+json": {
       "name": null,
       "sessionId": "1667889726_5XY2CI",
       "sessionLocation": {
        "https": false,
        "port": 40913
       },
       "widgetCreationCode": "session.visualize()"
      },
      "text/html": [
       "<img src=\"data:image/svg+xml;charset=utf8,%3C%3Fxml%20version%3D%221.0%22%20standalone%3D%22no%22%3F%3E%3Csvg%20xmlns%3D%22http%3A%2F%2Fwww.w3.org%2F2000%2Fsvg%22%20xmlns%3Axlink%3D%22http%3A%2F%2Fwww.w3.org%2F1999%2Fxlink%22%20height%3D%22352%22%20width%3D%221416%22%20viewBox%3D%220%200%201416%20352%22%3E%3Cdefs%20id%3D%22defs-5d31af%22%3E%3Cg%20class%3D%22clips%22%3E%3CclipPath%20id%3D%22clip5d31afxyplot%22%20class%3D%22plotclip%22%3E%3Crect%20width%3D%221155%22%20height%3D%22282%22%2F%3E%3C%2FclipPath%3E%3CclipPath%20class%3D%22axesclip%22%20id%3D%22clip5d31afx%22%3E%3Crect%20x%3D%22125%22%20y%3D%220%22%20width%3D%221155%22%20height%3D%22352%22%2F%3E%3C%2FclipPath%3E%3CclipPath%20class%3D%22axesclip%22%20id%3D%22clip5d31afy%22%3E%3Crect%20x%3D%220%22%20y%3D%2230%22%20width%3D%221416%22%20height%3D%22282%22%2F%3E%3C%2FclipPath%3E%3CclipPath%20class%3D%22axesclip%22%20id%3D%22clip5d31afxy%22%3E%3Crect%20x%3D%22125%22%20y%3D%2230%22%20width%3D%221155%22%20height%3D%22282%22%2F%3E%3C%2FclipPath%3E%3C%2Fg%3E%3Cg%20class%3D%22gradients%22%2F%3E%3C%2Fdefs%3E%3Cg%20class%3D%22bglayer%22%2F%3E%3Cg%20class%3D%22draglayer%20cursor-crosshair%22%3E%3Cg%20class%3D%22xy%22%3E%3Crect%20class%3D%22nsewdrag%20drag%22%20style%3D%22fill%3A%20transparent%3B%20stroke-width%3A%200px%3B%20pointer-events%3A%20all%3B%22%20data-subplot%3D%22xy%22%20x%3D%22125%22%20y%3D%2230%22%20width%3D%221155%22%20height%3D%22282%22%2F%3E%3Crect%20class%3D%22nwdrag%20drag%20cursor-nw-resize%22%20style%3D%22fill%3A%20transparent%3B%20stroke-width%3A%200px%3B%20pointer-events%3A%20all%3B%22%20data-subplot%3D%22xy%22%20x%3D%22105%22%20y%3D%2210%22%20width%3D%2220%22%20height%3D%2220%22%2F%3E%3Crect%20class%3D%22nedrag%20drag%20cursor-ne-resize%22%20style%3D%22fill%3A%20transparent%3B%20stroke-width%3A%200px%3B%20pointer-events%3A%20all%3B%22%20data-subplot%3D%22xy%22%20x%3D%221280%22%20y%3D%2210%22%20width%3D%2220%22%20height%3D%2220%22%2F%3E%3Crect%20class%3D%22swdrag%20drag%20cursor-sw-resize%22%20style%3D%22fill%3A%20transparent%3B%20stroke-width%3A%200px%3B%20pointer-events%3A%20all%3B%22%20data-subplot%3D%22xy%22%20x%3D%22105%22%20y%3D%22312%22%20width%3D%2220%22%20height%3D%2220%22%2F%3E%3Crect%20class%3D%22sedrag%20drag%20cursor-se-resize%22%20style%3D%22fill%3A%20transparent%3B%20stroke-width%3A%200px%3B%20pointer-events%3A%20all%3B%22%20data-subplot%3D%22xy%22%20x%3D%221280%22%20y%3D%22312%22%20width%3D%2220%22%20height%3D%2220%22%2F%3E%3Crect%20class%3D%22ewdrag%20drag%20cursor-ew-resize%22%20style%3D%22fill%3A%20transparent%3B%20stroke-width%3A%200px%3B%20pointer-events%3A%20all%3B%22%20data-subplot%3D%22xy%22%20x%3D%22240.5%22%20y%3D%22312.5%22%20width%3D%22924%22%20height%3D%2220%22%2F%3E%3Crect%20class%3D%22wdrag%20drag%20cursor-w-resize%22%20style%3D%22fill%3A%20transparent%3B%20stroke-width%3A%200px%3B%20pointer-events%3A%20all%3B%22%20data-subplot%3D%22xy%22%20x%3D%22125%22%20y%3D%22312.5%22%20width%3D%22115.5%22%20height%3D%2220%22%2F%3E%3Crect%20class%3D%22edrag%20drag%20cursor-e-resize%22%20style%3D%22fill%3A%20transparent%3B%20stroke-width%3A%200px%3B%20pointer-events%3A%20all%3B%22%20data-subplot%3D%22xy%22%20x%3D%221164.5%22%20y%3D%22312.5%22%20width%3D%22115.5%22%20height%3D%2220%22%2F%3E%3Crect%20class%3D%22nsdrag%20drag%20cursor-ns-resize%22%20style%3D%22fill%3A%20transparent%3B%20stroke-width%3A%200px%3B%20pointer-events%3A%20all%3B%22%20data-subplot%3D%22xy%22%20x%3D%22104.5%22%20y%3D%2258.2%22%20width%3D%2220%22%20height%3D%22225.60000000000002%22%2F%3E%3Crect%20class%3D%22sdrag%20drag%20cursor-s-resize%22%20style%3D%22fill%3A%20transparent%3B%20stroke-width%3A%200px%3B%20pointer-events%3A%20all%3B%22%20data-subplot%3D%22xy%22%20x%3D%22104.5%22%20y%3D%22283.8%22%20width%3D%2220%22%20height%3D%2228.200000000000003%22%2F%3E%3Crect%20class%3D%22ndrag%20drag%20cursor-n-resize%22%20style%3D%22fill%3A%20transparent%3B%20stroke-width%3A%200px%3B%20pointer-events%3A%20all%3B%22%20data-subplot%3D%22xy%22%20x%3D%22104.5%22%20y%3D%2230%22%20width%3D%2220%22%20height%3D%2228.200000000000003%22%2F%3E%3C%2Fg%3E%3C%2Fg%3E%3Cg%20class%3D%22layer-below%22%3E%3Cg%20class%3D%22imagelayer%22%2F%3E%3Cg%20class%3D%22shapelayer%22%2F%3E%3C%2Fg%3E%3Cg%20class%3D%22cartesianlayer%22%3E%3Cg%20class%3D%22subplot%20xy%22%3E%3Cg%20class%3D%22layer-subplot%22%3E%3Cg%20class%3D%22shapelayer%22%2F%3E%3Cg%20class%3D%22imagelayer%22%2F%3E%3C%2Fg%3E%3Cg%20class%3D%22gridlayer%22%3E%3Cg%20class%3D%22x%22%3E%3Cpath%20class%3D%22xgrid%20crisp%22%20transform%3D%22translate(262.77%2C0)%22%20d%3D%22M0%2C30v282%22%20style%3D%22stroke%3A%20rgb(0%2C%200%2C%200)%3B%20stroke-opacity%3A%200%3B%20stroke-width%3A%201px%3B%22%2F%3E%3Cpath%20class%3D%22xgrid%20crisp%22%20transform%3D%22translate(400.54%2C0)%22%20d%3D%22M0%2C30v282%22%20style%3D%22stroke%3A%20rgb(0%2C%200%2C%200)%3B%20stroke-opacity%3A%200%3B%20stroke-width%3A%201px%3B%22%2F%3E%3Cpath%20class%3D%22xgrid%20crisp%22%20transform%3D%22translate(538.31%2C0)%22%20d%3D%22M0%2C30v282%22%20style%3D%22stroke%3A%20rgb(0%2C%200%2C%200)%3B%20stroke-opacity%3A%200%3B%20stroke-width%3A%201px%3B%22%2F%3E%3Cpath%20class%3D%22xgrid%20crisp%22%20transform%3D%22translate(676.09%2C0)%22%20d%3D%22M0%2C30v282%22%20style%3D%22stroke%3A%20rgb(0%2C%200%2C%200)%3B%20stroke-opacity%3A%200%3B%20stroke-width%3A%201px%3B%22%2F%3E%3Cpath%20class%3D%22xgrid%20crisp%22%20transform%3D%22translate(813.86%2C0)%22%20d%3D%22M0%2C30v282%22%20style%3D%22stroke%3A%20rgb(0%2C%200%2C%200)%3B%20stroke-opacity%3A%200%3B%20stroke-width%3A%201px%3B%22%2F%3E%3Cpath%20class%3D%22xgrid%20crisp%22%20transform%3D%22translate(951.63%2C0)%22%20d%3D%22M0%2C30v282%22%20style%3D%22stroke%3A%20rgb(0%2C%200%2C%200)%3B%20stroke-opacity%3A%200%3B%20stroke-width%3A%201px%3B%22%2F%3E%3Cpath%20class%3D%22xgrid%20crisp%22%20transform%3D%22translate(1089.4%2C0)%22%20d%3D%22M0%2C30v282%22%20style%3D%22stroke%3A%20rgb(0%2C%200%2C%200)%3B%20stroke-opacity%3A%200%3B%20stroke-width%3A%201px%3B%22%2F%3E%3Cpath%20class%3D%22xgrid%20crisp%22%20transform%3D%22translate(1227.17%2C0)%22%20d%3D%22M0%2C30v282%22%20style%3D%22stroke%3A%20rgb(0%2C%200%2C%200)%3B%20stroke-opacity%3A%200%3B%20stroke-width%3A%201px%3B%22%2F%3E%3C%2Fg%3E%3Cg%20class%3D%22y%22%3E%3Cpath%20class%3D%22ygrid%20crisp%22%20transform%3D%22translate(0%2C301.93)%22%20d%3D%22M125%2C0h1155%22%20style%3D%22stroke%3A%20rgb(89%2C%2089%2C%2089)%3B%20stroke-opacity%3A%200.25%3B%20stroke-width%3A%201px%3B%22%2F%3E%3Cpath%20class%3D%22ygrid%20crisp%22%20transform%3D%22translate(0%2C281.78999999999996)%22%20d%3D%22M125%2C0h1155%22%20style%3D%22stroke%3A%20rgb(89%2C%2089%2C%2089)%3B%20stroke-opacity%3A%200.25%3B%20stroke-width%3A%201px%3B%22%2F%3E%3Cpath%20class%3D%22ygrid%20crisp%22%20transform%3D%22translate(0%2C261.64)%22%20d%3D%22M125%2C0h1155%22%20style%3D%22stroke%3A%20rgb(89%2C%2089%2C%2089)%3B%20stroke-opacity%3A%200.25%3B%20stroke-width%3A%201px%3B%22%2F%3E%3Cpath%20class%3D%22ygrid%20crisp%22%20transform%3D%22translate(0%2C241.5)%22%20d%3D%22M125%2C0h1155%22%20style%3D%22stroke%3A%20rgb(89%2C%2089%2C%2089)%3B%20stroke-opacity%3A%200.25%3B%20stroke-width%3A%201px%3B%22%2F%3E%3Cpath%20class%3D%22ygrid%20crisp%22%20transform%3D%22translate(0%2C221.36)%22%20d%3D%22M125%2C0h1155%22%20style%3D%22stroke%3A%20rgb(89%2C%2089%2C%2089)%3B%20stroke-opacity%3A%200.25%3B%20stroke-width%3A%201px%3B%22%2F%3E%3Cpath%20class%3D%22ygrid%20crisp%22%20transform%3D%22translate(0%2C201.21)%22%20d%3D%22M125%2C0h1155%22%20style%3D%22stroke%3A%20rgb(89%2C%2089%2C%2089)%3B%20stroke-opacity%3A%200.25%3B%20stroke-width%3A%201px%3B%22%2F%3E%3Cpath%20class%3D%22ygrid%20crisp%22%20transform%3D%22translate(0%2C181.07)%22%20d%3D%22M125%2C0h1155%22%20style%3D%22stroke%3A%20rgb(89%2C%2089%2C%2089)%3B%20stroke-opacity%3A%200.25%3B%20stroke-width%3A%201px%3B%22%2F%3E%3Cpath%20class%3D%22ygrid%20crisp%22%20transform%3D%22translate(0%2C160.93)%22%20d%3D%22M125%2C0h1155%22%20style%3D%22stroke%3A%20rgb(89%2C%2089%2C%2089)%3B%20stroke-opacity%3A%200.25%3B%20stroke-width%3A%201px%3B%22%2F%3E%3Cpath%20class%3D%22ygrid%20crisp%22%20transform%3D%22translate(0%2C140.79000000000002)%22%20d%3D%22M125%2C0h1155%22%20style%3D%22stroke%3A%20rgb(89%2C%2089%2C%2089)%3B%20stroke-opacity%3A%200.25%3B%20stroke-width%3A%201px%3B%22%2F%3E%3Cpath%20class%3D%22ygrid%20crisp%22%20transform%3D%22translate(0%2C120.64)%22%20d%3D%22M125%2C0h1155%22%20style%3D%22stroke%3A%20rgb(89%2C%2089%2C%2089)%3B%20stroke-opacity%3A%200.25%3B%20stroke-width%3A%201px%3B%22%2F%3E%3Cpath%20class%3D%22ygrid%20crisp%22%20transform%3D%22translate(0%2C100.5)%22%20d%3D%22M125%2C0h1155%22%20style%3D%22stroke%3A%20rgb(89%2C%2089%2C%2089)%3B%20stroke-opacity%3A%200.25%3B%20stroke-width%3A%201px%3B%22%2F%3E%3Cpath%20class%3D%22ygrid%20crisp%22%20transform%3D%22translate(0%2C80.36)%22%20d%3D%22M125%2C0h1155%22%20style%3D%22stroke%3A%20rgb(89%2C%2089%2C%2089)%3B%20stroke-opacity%3A%200.25%3B%20stroke-width%3A%201px%3B%22%2F%3E%3Cpath%20class%3D%22ygrid%20crisp%22%20transform%3D%22translate(0%2C60.21)%22%20d%3D%22M125%2C0h1155%22%20style%3D%22stroke%3A%20rgb(89%2C%2089%2C%2089)%3B%20stroke-opacity%3A%200.25%3B%20stroke-width%3A%201px%3B%22%2F%3E%3Cpath%20class%3D%22ygrid%20crisp%22%20transform%3D%22translate(0%2C40.07)%22%20d%3D%22M125%2C0h1155%22%20style%3D%22stroke%3A%20rgb(89%2C%2089%2C%2089)%3B%20stroke-opacity%3A%200.25%3B%20stroke-width%3A%201px%3B%22%2F%3E%3C%2Fg%3E%3C%2Fg%3E%3Cg%20class%3D%22zerolinelayer%22%3E%3Cpath%20class%3D%22xzl%20zl%20crisp%22%20transform%3D%22translate(125%2C0)%22%20d%3D%22M0%2C30v282%22%20style%3D%22stroke%3A%20rgb(89%2C%2089%2C%2089)%3B%20stroke-opacity%3A%200.5%3B%20stroke-width%3A%201px%3B%22%2F%3E%3C%2Fg%3E%3Cpath%20class%3D%22xlines-below%22%2F%3E%3Cpath%20class%3D%22ylines-below%22%2F%3E%3Cg%20class%3D%22overlines-below%22%2F%3E%3Cg%20class%3D%22xaxislayer-below%22%2F%3E%3Cg%20class%3D%22yaxislayer-below%22%2F%3E%3Cg%20class%3D%22overaxes-below%22%2F%3E%3Cg%20class%3D%22plot%22%20transform%3D%22translate(125%2C30)%22%20clip-path%3D%22url('%23clip5d31afxyplot')%22%3E%3Cg%20class%3D%22barlayer%20mlayer%22%3E%3Cg%20class%3D%22trace%20bars%22%20style%3D%22opacity%3A%201%3B%22%3E%3Cg%20class%3D%22points%22%3E%3Cg%20class%3D%22point%22%3E%3Cpath%20style%3D%22vector-effect%3A%20non-scaling-stroke%3B%20opacity%3A%201%3B%20stroke-width%3A%200px%3B%20fill%3A%20rgb(78%2C%20121%2C%20167)%3B%20fill-opacity%3A%201%3B%22%20d%3D%22M0%2C279.99V263.87H1005.59V279.99Z%22%2F%3E%3C%2Fg%3E%3Cg%20class%3D%22point%22%3E%3Cpath%20style%3D%22vector-effect%3A%20non-scaling-stroke%3B%20opacity%3A%201%3B%20stroke-width%3A%200px%3B%20fill%3A%20rgb(78%2C%20121%2C%20167)%3B%20fill-opacity%3A%201%3B%22%20d%3D%22M0%2C259.84V243.73H1061.78V259.84Z%22%2F%3E%3C%2Fg%3E%3Cg%20class%3D%22point%22%3E%3Cpath%20style%3D%22vector-effect%3A%20non-scaling-stroke%3B%20opacity%3A%201%3B%20stroke-width%3A%200px%3B%20fill%3A%20rgb(78%2C%20121%2C%20167)%3B%20fill-opacity%3A%201%3B%22%20d%3D%22M0%2C239.7V223.59H1041.23V239.7Z%22%2F%3E%3C%2Fg%3E%3Cg%20class%3D%22point%22%3E%3Cpath%20style%3D%22vector-effect%3A%20non-scaling-stroke%3B%20opacity%3A%201%3B%20stroke-width%3A%200px%3B%20fill%3A%20rgb(78%2C%20121%2C%20167)%3B%20fill-opacity%3A%201%3B%22%20d%3D%22M0%2C219.56V203.44H974.25V219.56Z%22%2F%3E%3C%2Fg%3E%3Cg%20class%3D%22point%22%3E%3Cpath%20style%3D%22vector-effect%3A%20non-scaling-stroke%3B%20opacity%3A%201%3B%20stroke-width%3A%200px%3B%20fill%3A%20rgb(78%2C%20121%2C%20167)%3B%20fill-opacity%3A%201%3B%22%20d%3D%22M0%2C199.41V183.3H1072.01V199.41Z%22%2F%3E%3C%2Fg%3E%3Cg%20class%3D%22point%22%3E%3Cpath%20style%3D%22vector-effect%3A%20non-scaling-stroke%3B%20opacity%3A%201%3B%20stroke-width%3A%200px%3B%20fill%3A%20rgb(78%2C%20121%2C%20167)%3B%20fill-opacity%3A%201%3B%22%20d%3D%22M0%2C179.27V163.16H1073.62V179.27Z%22%2F%3E%3C%2Fg%3E%3Cg%20class%3D%22point%22%3E%3Cpath%20style%3D%22vector-effect%3A%20non-scaling-stroke%3B%20opacity%3A%201%3B%20stroke-width%3A%200px%3B%20fill%3A%20rgb(78%2C%20121%2C%20167)%3B%20fill-opacity%3A%201%3B%22%20d%3D%22M0%2C159.13V143.01H1094.03V159.13Z%22%2F%3E%3C%2Fg%3E%3Cg%20class%3D%22point%22%3E%3Cpath%20style%3D%22vector-effect%3A%20non-scaling-stroke%3B%20opacity%3A%201%3B%20stroke-width%3A%200px%3B%20fill%3A%20rgb(78%2C%20121%2C%20167)%3B%20fill-opacity%3A%201%3B%22%20d%3D%22M0%2C138.99V122.87H938.8V138.99Z%22%2F%3E%3C%2Fg%3E%3Cg%20class%3D%22point%22%3E%3Cpath%20style%3D%22vector-effect%3A%20non-scaling-stroke%3B%20opacity%3A%201%3B%20stroke-width%3A%200px%3B%20fill%3A%20rgb(78%2C%20121%2C%20167)%3B%20fill-opacity%3A%201%3B%22%20d%3D%22M0%2C118.84V102.73H1055.81V118.84Z%22%2F%3E%3C%2Fg%3E%3Cg%20class%3D%22point%22%3E%3Cpath%20style%3D%22vector-effect%3A%20non-scaling-stroke%3B%20opacity%3A%201%3B%20stroke-width%3A%200px%3B%20fill%3A%20rgb(78%2C%20121%2C%20167)%3B%20fill-opacity%3A%201%3B%22%20d%3D%22M0%2C98.7V82.59H1029.19V98.7Z%22%2F%3E%3C%2Fg%3E%3Cg%20class%3D%22point%22%3E%3Cpath%20style%3D%22vector-effect%3A%20non-scaling-stroke%3B%20opacity%3A%201%3B%20stroke-width%3A%200px%3B%20fill%3A%20rgb(78%2C%20121%2C%20167)%3B%20fill-opacity%3A%201%3B%22%20d%3D%22M0%2C78.56V62.44H965.14V78.56Z%22%2F%3E%3C%2Fg%3E%3Cg%20class%3D%22point%22%3E%3Cpath%20style%3D%22vector-effect%3A%20non-scaling-stroke%3B%20opacity%3A%201%3B%20stroke-width%3A%200px%3B%20fill%3A%20rgb(78%2C%20121%2C%20167)%3B%20fill-opacity%3A%201%3B%22%20d%3D%22M0%2C58.41V42.3H1071.14V58.41Z%22%2F%3E%3C%2Fg%3E%3Cg%20class%3D%22point%22%3E%3Cpath%20style%3D%22vector-effect%3A%20non-scaling-stroke%3B%20opacity%3A%201%3B%20stroke-width%3A%200px%3B%20fill%3A%20rgb(78%2C%20121%2C%20167)%3B%20fill-opacity%3A%201%3B%22%20d%3D%22M0%2C38.27V22.16H1066.27V38.27Z%22%2F%3E%3C%2Fg%3E%3Cg%20class%3D%22point%22%3E%3Cpath%20style%3D%22vector-effect%3A%20non-scaling-stroke%3B%20opacity%3A%201%3B%20stroke-width%3A%200px%3B%20fill%3A%20rgb(78%2C%20121%2C%20167)%3B%20fill-opacity%3A%201%3B%22%20d%3D%22M0%2C18.13V2.01H1097.25V18.13Z%22%2F%3E%3C%2Fg%3E%3C%2Fg%3E%3C%2Fg%3E%3C%2Fg%3E%3C%2Fg%3E%3Cg%20class%3D%22overplot%22%2F%3E%3Cpath%20class%3D%22xlines-above%20crisp%22%20style%3D%22fill%3A%20none%3B%20stroke-width%3A%201px%3B%20stroke%3A%20rgb(89%2C%2089%2C%2089)%3B%20stroke-opacity%3A%200.25%3B%22%20d%3D%22M124%2C312.5H1280%22%2F%3E%3Cpath%20class%3D%22ylines-above%20crisp%22%20style%3D%22fill%3A%20none%3B%20stroke-width%3A%201px%3B%20stroke%3A%20rgb(89%2C%2089%2C%2089)%3B%20stroke-opacity%3A%200.25%3B%22%20d%3D%22M124.5%2C30V312%22%2F%3E%3Cg%20class%3D%22overlines-above%22%2F%3E%3Cg%20class%3D%22xaxislayer-above%22%3E%3Cg%20class%3D%22xtick%22%3E%3Ctext%20text-anchor%3D%22middle%22%20x%3D%220%22%20y%3D%22327.4%22%20style%3D%22font-family%3A%20%26quot%3BOpen%20Sans%26quot%3B%2C%20verdana%2C%20arial%2C%20sans-serif%3B%20font-size%3A%2012px%3B%20fill%3A%20rgb(89%2C%2089%2C%2089)%3B%20fill-opacity%3A%201%3B%20white-space%3A%20pre%3B%22%20data-unformatted%3D%220%22%20data-math%3D%22N%22%20transform%3D%22translate(125%2C0)%22%3E0%3C%2Ftext%3E%3C%2Fg%3E%3Cg%20class%3D%22xtick%22%3E%3Ctext%20text-anchor%3D%22middle%22%20x%3D%220%22%20y%3D%22327.4%22%20style%3D%22font-family%3A%20%26quot%3BOpen%20Sans%26quot%3B%2C%20verdana%2C%20arial%2C%20sans-serif%3B%20font-size%3A%2012px%3B%20fill%3A%20rgb(89%2C%2089%2C%2089)%3B%20fill-opacity%3A%201%3B%20white-space%3A%20pre%3B%22%20data-unformatted%3D%2210%22%20data-math%3D%22N%22%20transform%3D%22translate(262.77%2C0)%22%3E10%3C%2Ftext%3E%3C%2Fg%3E%3Cg%20class%3D%22xtick%22%3E%3Ctext%20text-anchor%3D%22middle%22%20x%3D%220%22%20y%3D%22327.4%22%20style%3D%22font-family%3A%20%26quot%3BOpen%20Sans%26quot%3B%2C%20verdana%2C%20arial%2C%20sans-serif%3B%20font-size%3A%2012px%3B%20fill%3A%20rgb(89%2C%2089%2C%2089)%3B%20fill-opacity%3A%201%3B%20white-space%3A%20pre%3B%22%20data-unformatted%3D%2220%22%20data-math%3D%22N%22%20transform%3D%22translate(400.54%2C0)%22%3E20%3C%2Ftext%3E%3C%2Fg%3E%3Cg%20class%3D%22xtick%22%3E%3Ctext%20text-anchor%3D%22middle%22%20x%3D%220%22%20y%3D%22327.4%22%20style%3D%22font-family%3A%20%26quot%3BOpen%20Sans%26quot%3B%2C%20verdana%2C%20arial%2C%20sans-serif%3B%20font-size%3A%2012px%3B%20fill%3A%20rgb(89%2C%2089%2C%2089)%3B%20fill-opacity%3A%201%3B%20white-space%3A%20pre%3B%22%20data-unformatted%3D%2230%22%20data-math%3D%22N%22%20transform%3D%22translate(538.31%2C0)%22%3E30%3C%2Ftext%3E%3C%2Fg%3E%3Cg%20class%3D%22xtick%22%3E%3Ctext%20text-anchor%3D%22middle%22%20x%3D%220%22%20y%3D%22327.4%22%20style%3D%22font-family%3A%20%26quot%3BOpen%20Sans%26quot%3B%2C%20verdana%2C%20arial%2C%20sans-serif%3B%20font-size%3A%2012px%3B%20fill%3A%20rgb(89%2C%2089%2C%2089)%3B%20fill-opacity%3A%201%3B%20white-space%3A%20pre%3B%22%20data-unformatted%3D%2240%22%20data-math%3D%22N%22%20transform%3D%22translate(676.09%2C0)%22%3E40%3C%2Ftext%3E%3C%2Fg%3E%3Cg%20class%3D%22xtick%22%3E%3Ctext%20text-anchor%3D%22middle%22%20x%3D%220%22%20y%3D%22327.4%22%20style%3D%22font-family%3A%20%26quot%3BOpen%20Sans%26quot%3B%2C%20verdana%2C%20arial%2C%20sans-serif%3B%20font-size%3A%2012px%3B%20fill%3A%20rgb(89%2C%2089%2C%2089)%3B%20fill-opacity%3A%201%3B%20white-space%3A%20pre%3B%22%20data-unformatted%3D%2250%22%20data-math%3D%22N%22%20transform%3D%22translate(813.86%2C0)%22%3E50%3C%2Ftext%3E%3C%2Fg%3E%3Cg%20class%3D%22xtick%22%3E%3Ctext%20text-anchor%3D%22middle%22%20x%3D%220%22%20y%3D%22327.4%22%20style%3D%22font-family%3A%20%26quot%3BOpen%20Sans%26quot%3B%2C%20verdana%2C%20arial%2C%20sans-serif%3B%20font-size%3A%2012px%3B%20fill%3A%20rgb(89%2C%2089%2C%2089)%3B%20fill-opacity%3A%201%3B%20white-space%3A%20pre%3B%22%20data-unformatted%3D%2260%22%20data-math%3D%22N%22%20transform%3D%22translate(951.63%2C0)%22%3E60%3C%2Ftext%3E%3C%2Fg%3E%3Cg%20class%3D%22xtick%22%3E%3Ctext%20text-anchor%3D%22middle%22%20x%3D%220%22%20y%3D%22327.4%22%20style%3D%22font-family%3A%20%26quot%3BOpen%20Sans%26quot%3B%2C%20verdana%2C%20arial%2C%20sans-serif%3B%20font-size%3A%2012px%3B%20fill%3A%20rgb(89%2C%2089%2C%2089)%3B%20fill-opacity%3A%201%3B%20white-space%3A%20pre%3B%22%20data-unformatted%3D%2270%22%20data-math%3D%22N%22%20transform%3D%22translate(1089.4%2C0)%22%3E70%3C%2Ftext%3E%3C%2Fg%3E%3Cg%20class%3D%22xtick%22%3E%3Ctext%20text-anchor%3D%22middle%22%20x%3D%220%22%20y%3D%22327.4%22%20style%3D%22font-family%3A%20%26quot%3BOpen%20Sans%26quot%3B%2C%20verdana%2C%20arial%2C%20sans-serif%3B%20font-size%3A%2012px%3B%20fill%3A%20rgb(89%2C%2089%2C%2089)%3B%20fill-opacity%3A%201%3B%20white-space%3A%20pre%3B%22%20data-unformatted%3D%2280%22%20data-math%3D%22N%22%20transform%3D%22translate(1227.17%2C0)%22%3E80%3C%2Ftext%3E%3C%2Fg%3E%3C%2Fg%3E%3Cg%20class%3D%22yaxislayer-above%22%3E%3Cg%20class%3D%22ytick%22%3E%3Ctext%20text-anchor%3D%22end%22%20x%3D%22121.6%22%20y%3D%224.199999999999999%22%20style%3D%22font-family%3A%20%26quot%3BOpen%20Sans%26quot%3B%2C%20verdana%2C%20arial%2C%20sans-serif%3B%20font-size%3A%2012px%3B%20fill%3A%20rgb(89%2C%2089%2C%2089)%3B%20fill-opacity%3A%201%3B%20white-space%3A%20pre%3B%22%20data-unformatted%3D%22Northern%20Region%2C%20AAA%22%20data-math%3D%22N%22%20transform%3D%22translate(0%2C301.93)%22%3ENorthern%20Region%2C%20AAA%3C%2Ftext%3E%3C%2Fg%3E%3Cg%20class%3D%22ytick%22%3E%3Ctext%20text-anchor%3D%22end%22%20x%3D%22121.6%22%20y%3D%224.199999999999999%22%20style%3D%22font-family%3A%20%26quot%3BOpen%20Sans%26quot%3B%2C%20verdana%2C%20arial%2C%20sans-serif%3B%20font-size%3A%2012px%3B%20fill%3A%20rgb(89%2C%2089%2C%2089)%3B%20fill-opacity%3A%201%3B%20white-space%3A%20pre%3B%22%20data-unformatted%3D%22Northern%20Region%2C%20BBB%22%20data-math%3D%22N%22%20transform%3D%22translate(0%2C281.78999999999996)%22%3ENorthern%20Region%2C%20BBB%3C%2Ftext%3E%3C%2Fg%3E%3Cg%20class%3D%22ytick%22%3E%3Ctext%20text-anchor%3D%22end%22%20x%3D%22121.6%22%20y%3D%224.199999999999999%22%20style%3D%22font-family%3A%20%26quot%3BOpen%20Sans%26quot%3B%2C%20verdana%2C%20arial%2C%20sans-serif%3B%20font-size%3A%2012px%3B%20fill%3A%20rgb(89%2C%2089%2C%2089)%3B%20fill-opacity%3A%201%3B%20white-space%3A%20pre%3B%22%20data-unformatted%3D%22Northern%20Region%2C%20CCC%22%20data-math%3D%22N%22%20transform%3D%22translate(0%2C261.64)%22%3ENorthern%20Region%2C%20CCC%3C%2Ftext%3E%3C%2Fg%3E%3Cg%20class%3D%22ytick%22%3E%3Ctext%20text-anchor%3D%22end%22%20x%3D%22121.6%22%20y%3D%224.199999999999999%22%20style%3D%22font-family%3A%20%26quot%3BOpen%20Sans%26quot%3B%2C%20verdana%2C%20arial%2C%20sans-serif%3B%20font-size%3A%2012px%3B%20fill%3A%20rgb(89%2C%2089%2C%2089)%3B%20fill-opacity%3A%201%3B%20white-space%3A%20pre%3B%22%20data-unformatted%3D%22Northern%20Region%2C%20DDD%22%20data-math%3D%22N%22%20transform%3D%22translate(0%2C241.5)%22%3ENorthern%20Region%2C%20DDD%3C%2Ftext%3E%3C%2Fg%3E%3Cg%20class%3D%22ytick%22%3E%3Ctext%20text-anchor%3D%22end%22%20x%3D%22121.6%22%20y%3D%224.199999999999999%22%20style%3D%22font-family%3A%20%26quot%3BOpen%20Sans%26quot%3B%2C%20verdana%2C%20arial%2C%20sans-serif%3B%20font-size%3A%2012px%3B%20fill%3A%20rgb(89%2C%2089%2C%2089)%3B%20fill-opacity%3A%201%3B%20white-space%3A%20pre%3B%22%20data-unformatted%3D%22Northern%20Region%2C%20EEE%22%20data-math%3D%22N%22%20transform%3D%22translate(0%2C221.36)%22%3ENorthern%20Region%2C%20EEE%3C%2Ftext%3E%3C%2Fg%3E%3Cg%20class%3D%22ytick%22%3E%3Ctext%20text-anchor%3D%22end%22%20x%3D%22121.6%22%20y%3D%224.199999999999999%22%20style%3D%22font-family%3A%20%26quot%3BOpen%20Sans%26quot%3B%2C%20verdana%2C%20arial%2C%20sans-serif%3B%20font-size%3A%2012px%3B%20fill%3A%20rgb(89%2C%2089%2C%2089)%3B%20fill-opacity%3A%201%3B%20white-space%3A%20pre%3B%22%20data-unformatted%3D%22Northern%20Region%2C%20FFF%22%20data-math%3D%22N%22%20transform%3D%22translate(0%2C201.21)%22%3ENorthern%20Region%2C%20FFF%3C%2Ftext%3E%3C%2Fg%3E%3Cg%20class%3D%22ytick%22%3E%3Ctext%20text-anchor%3D%22end%22%20x%3D%22121.6%22%20y%3D%224.199999999999999%22%20style%3D%22font-family%3A%20%26quot%3BOpen%20Sans%26quot%3B%2C%20verdana%2C%20arial%2C%20sans-serif%3B%20font-size%3A%2012px%3B%20fill%3A%20rgb(89%2C%2089%2C%2089)%3B%20fill-opacity%3A%201%3B%20white-space%3A%20pre%3B%22%20data-unformatted%3D%22Northern%20Region%2C%20GGG%22%20data-math%3D%22N%22%20transform%3D%22translate(0%2C181.07)%22%3ENorthern%20Region%2C%20GGG%3C%2Ftext%3E%3C%2Fg%3E%3Cg%20class%3D%22ytick%22%3E%3Ctext%20text-anchor%3D%22end%22%20x%3D%22121.6%22%20y%3D%224.199999999999999%22%20style%3D%22font-family%3A%20%26quot%3BOpen%20Sans%26quot%3B%2C%20verdana%2C%20arial%2C%20sans-serif%3B%20font-size%3A%2012px%3B%20fill%3A%20rgb(89%2C%2089%2C%2089)%3B%20fill-opacity%3A%201%3B%20white-space%3A%20pre%3B%22%20data-unformatted%3D%22Southern%20Region%2C%20AAA%22%20data-math%3D%22N%22%20transform%3D%22translate(0%2C160.93)%22%3ESouthern%20Region%2C%20AAA%3C%2Ftext%3E%3C%2Fg%3E%3Cg%20class%3D%22ytick%22%3E%3Ctext%20text-anchor%3D%22end%22%20x%3D%22121.6%22%20y%3D%224.199999999999999%22%20style%3D%22font-family%3A%20%26quot%3BOpen%20Sans%26quot%3B%2C%20verdana%2C%20arial%2C%20sans-serif%3B%20font-size%3A%2012px%3B%20fill%3A%20rgb(89%2C%2089%2C%2089)%3B%20fill-opacity%3A%201%3B%20white-space%3A%20pre%3B%22%20data-unformatted%3D%22Southern%20Region%2C%20BBB%22%20data-math%3D%22N%22%20transform%3D%22translate(0%2C140.79000000000002)%22%3ESouthern%20Region%2C%20BBB%3C%2Ftext%3E%3C%2Fg%3E%3Cg%20class%3D%22ytick%22%3E%3Ctext%20text-anchor%3D%22end%22%20x%3D%22121.6%22%20y%3D%224.199999999999999%22%20style%3D%22font-family%3A%20%26quot%3BOpen%20Sans%26quot%3B%2C%20verdana%2C%20arial%2C%20sans-serif%3B%20font-size%3A%2012px%3B%20fill%3A%20rgb(89%2C%2089%2C%2089)%3B%20fill-opacity%3A%201%3B%20white-space%3A%20pre%3B%22%20data-unformatted%3D%22Southern%20Region%2C%20CCC%22%20data-math%3D%22N%22%20transform%3D%22translate(0%2C120.64)%22%3ESouthern%20Region%2C%20CCC%3C%2Ftext%3E%3C%2Fg%3E%3Cg%20class%3D%22ytick%22%3E%3Ctext%20text-anchor%3D%22end%22%20x%3D%22121.6%22%20y%3D%224.199999999999999%22%20style%3D%22font-family%3A%20%26quot%3BOpen%20Sans%26quot%3B%2C%20verdana%2C%20arial%2C%20sans-serif%3B%20font-size%3A%2012px%3B%20fill%3A%20rgb(89%2C%2089%2C%2089)%3B%20fill-opacity%3A%201%3B%20white-space%3A%20pre%3B%22%20data-unformatted%3D%22Southern%20Region%2C%20DDD%22%20data-math%3D%22N%22%20transform%3D%22translate(0%2C100.5)%22%3ESouthern%20Region%2C%20DDD%3C%2Ftext%3E%3C%2Fg%3E%3Cg%20class%3D%22ytick%22%3E%3Ctext%20text-anchor%3D%22end%22%20x%3D%22121.6%22%20y%3D%224.199999999999999%22%20style%3D%22font-family%3A%20%26quot%3BOpen%20Sans%26quot%3B%2C%20verdana%2C%20arial%2C%20sans-serif%3B%20font-size%3A%2012px%3B%20fill%3A%20rgb(89%2C%2089%2C%2089)%3B%20fill-opacity%3A%201%3B%20white-space%3A%20pre%3B%22%20data-unformatted%3D%22Southern%20Region%2C%20EEE%22%20data-math%3D%22N%22%20transform%3D%22translate(0%2C80.36)%22%3ESouthern%20Region%2C%20EEE%3C%2Ftext%3E%3C%2Fg%3E%3Cg%20class%3D%22ytick%22%3E%3Ctext%20text-anchor%3D%22end%22%20x%3D%22121.6%22%20y%3D%224.199999999999999%22%20style%3D%22font-family%3A%20%26quot%3BOpen%20Sans%26quot%3B%2C%20verdana%2C%20arial%2C%20sans-serif%3B%20font-size%3A%2012px%3B%20fill%3A%20rgb(89%2C%2089%2C%2089)%3B%20fill-opacity%3A%201%3B%20white-space%3A%20pre%3B%22%20data-unformatted%3D%22Southern%20Region%2C%20FFF%22%20data-math%3D%22N%22%20transform%3D%22translate(0%2C60.21)%22%3ESouthern%20Region%2C%20FFF%3C%2Ftext%3E%3C%2Fg%3E%3Cg%20class%3D%22ytick%22%3E%3Ctext%20text-anchor%3D%22end%22%20x%3D%22121.6%22%20y%3D%224.199999999999999%22%20style%3D%22font-family%3A%20%26quot%3BOpen%20Sans%26quot%3B%2C%20verdana%2C%20arial%2C%20sans-serif%3B%20font-size%3A%2012px%3B%20fill%3A%20rgb(89%2C%2089%2C%2089)%3B%20fill-opacity%3A%201%3B%20white-space%3A%20pre%3B%22%20data-unformatted%3D%22Southern%20Region%2C%20GGG%22%20data-math%3D%22N%22%20transform%3D%22translate(0%2C40.07)%22%3ESouthern%20Region%2C%20GGG%3C%2Ftext%3E%3C%2Fg%3E%3C%2Fg%3E%3Cg%20class%3D%22overaxes-above%22%2F%3E%3C%2Fg%3E%3C%2Fg%3E%3Cg%20class%3D%22polarlayer%22%2F%3E%3Cg%20class%3D%22ternarylayer%22%2F%3E%3Cg%20class%3D%22geolayer%22%2F%3E%3Cg%20class%3D%22funnelarealayer%22%2F%3E%3Cg%20class%3D%22pielayer%22%2F%3E%3Cg%20class%3D%22treemaplayer%22%2F%3E%3Cg%20class%3D%22sunburstlayer%22%2F%3E%3Cg%20class%3D%22glimages%22%2F%3E%3Cdefs%20id%3D%22topdefs-5d31af%22%3E%3Cg%20class%3D%22clips%22%2F%3E%3CclipPath%20id%3D%22legend5d31af%22%3E%3Crect%20width%3D%22113%22%20height%3D%2229%22%20x%3D%220%22%20y%3D%220%22%2F%3E%3C%2FclipPath%3E%3C%2Fdefs%3E%3Cg%20class%3D%22indicatorlayer%22%2F%3E%3Cg%20class%3D%22layer-above%22%3E%3Cg%20class%3D%22imagelayer%22%2F%3E%3Cg%20class%3D%22shapelayer%22%2F%3E%3C%2Fg%3E%3Cg%20class%3D%22infolayer%22%3E%3Cg%20class%3D%22legend%22%20pointer-events%3D%22all%22%20transform%3D%22translate(1303%2C30)%22%3E%3Crect%20class%3D%22bg%22%20shape-rendering%3D%22crispEdges%22%20style%3D%22stroke%3A%20rgb(68%2C%2068%2C%2068)%3B%20stroke-opacity%3A%201%3B%20fill%3A%20rgb(255%2C%20255%2C%20255)%3B%20fill-opacity%3A%201%3B%20stroke-width%3A%200px%3B%22%20width%3D%22113%22%20height%3D%2229%22%20x%3D%220%22%20y%3D%220%22%2F%3E%3Cg%20class%3D%22scrollbox%22%20transform%3D%22%22%20clip-path%3D%22url('%23legend5d31af')%22%3E%3Cg%20class%3D%22groups%22%20transform%3D%22%22%3E%3Cg%20class%3D%22traces%22%20style%3D%22opacity%3A%201%3B%22%20transform%3D%22translate(0%2C14.5)%22%3E%3Ctext%20class%3D%22legendtext%22%20text-anchor%3D%22start%22%20style%3D%22font-family%3A%20%26quot%3BOpen%20Sans%26quot%3B%2C%20verdana%2C%20arial%2C%20sans-serif%3B%20font-size%3A%2012px%3B%20fill%3A%20rgb(89%2C%2089%2C%2089)%3B%20fill-opacity%3A%201%3B%20white-space%3A%20pre%3B%22%20x%3D%2240%22%20y%3D%224.680000000000001%22%20data-unformatted%3D%22score.MEAN%22%20data-math%3D%22N%22%3Escore.MEAN%3C%2Ftext%3E%3Cg%20class%3D%22layers%22%20style%3D%22opacity%3A%201%3B%22%3E%3Cg%20class%3D%22legendfill%22%2F%3E%3Cg%20class%3D%22legendlines%22%2F%3E%3Cg%20class%3D%22legendsymbols%22%3E%3Cg%20class%3D%22legendpoints%22%3E%3Cpath%20class%3D%22legendundefined%22%20d%3D%22M6%2C6H-6V-6H6Z%22%20transform%3D%22translate(20%2C0)%22%20style%3D%22stroke-width%3A%200px%3B%20fill%3A%20rgb(78%2C%20121%2C%20167)%3B%20fill-opacity%3A%201%3B%22%2F%3E%3C%2Fg%3E%3C%2Fg%3E%3C%2Fg%3E%3Crect%20class%3D%22legendtoggle%22%20style%3D%22cursor%3A%20pointer%3B%20fill%3A%20rgb(0%2C%200%2C%200)%3B%20fill-opacity%3A%200%3B%22%20pointer-events%3D%22all%22%20x%3D%220%22%20y%3D%22-9.5%22%20width%3D%22107.69999694824219%22%20height%3D%2219%22%2F%3E%3C%2Fg%3E%3C%2Fg%3E%3C%2Fg%3E%3Crect%20class%3D%22scrollbar%22%20rx%3D%2220%22%20ry%3D%223%22%20width%3D%220%22%20height%3D%220%22%20style%3D%22fill%3A%20rgb(128%2C%20139%2C%20164)%3B%20fill-opacity%3A%201%3B%22%20x%3D%220%22%20y%3D%220%22%2F%3E%3C%2Fg%3E%3Cg%20class%3D%22g-gtitle%22%2F%3E%3Cg%20class%3D%22g-xtitle%22%2F%3E%3Cg%20class%3D%22g-ytitle%22%2F%3E%3C%2Fg%3E%3Cg%20class%3D%22menulayer%22%2F%3E%3Cg%20class%3D%22zoomlayer%22%2F%3E%3Cg%20class%3D%22hoverlayer%22%2F%3E%3C%2Fsvg%3E\">"
      ],
      "text/plain": [
       "Open the notebook in JupyterLab with the atoti extension enabled to build this widget."
      ]
     },
     "metadata": {},
     "output_type": "display_data"
    }
   ],
   "source": [
    "session.visualize()"
   ]
  }
 ],
 "metadata": {
  "kernelspec": {
   "display_name": "Python 3 (ipykernel)",
   "language": "python",
   "name": "python3"
  },
  "language_info": {
   "codemirror_mode": {
    "name": "ipython",
    "version": 3
   },
   "file_extension": ".py",
   "mimetype": "text/x-python",
   "name": "python",
   "nbconvert_exporter": "python",
   "pygments_lexer": "ipython3",
   "version": "3.10.5"
  }
 },
 "nbformat": 4,
 "nbformat_minor": 5
}
